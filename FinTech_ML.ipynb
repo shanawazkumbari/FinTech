{
 "cells": [
  {
   "cell_type": "markdown",
   "metadata": {},
   "source": [
    "## Bussines Problem\n",
    "The Financial Technology company (Fin-Tech Company) launch there a mobile app. This app used for financial purposes like bank loans, savings, etc. in one place. It has two versions free and premium. The free version app contains basic features and customer wants to use the premium feature then they have to pay some amount to unlock it.\n",
    "\n",
    "The main goal of the company is to sell the premium version app with low advertisement cost but they don’t know how to do it. That’s a reason they are provided the premium feature in the free version app for 24 hours to collect the customer’s behavior. After that, the company hired the Machine Learning Engineer to find insight from the collected data (customer’s behavior).\n",
    "\n",
    "The job of the ML engineer is to find or predict new customer who is interested to buy the product or not. If the customers will buy a product anyway so no need to give an offer to that customer and loss the business. Only give offers to those customers who are interested to use premium version app but they can’t afford its cost. So the company will give offers to those customers and earn more money."
   ]
  },
  {
   "cell_type": "markdown",
   "metadata": {},
   "source": [
    "## About the dataset"
   ]
  },
  {
   "cell_type": "raw",
   "metadata": {},
   "source": [
    "The fineTech_appData DataFrame contains 50,000 users data with 12 different features. Let’s know each and every feature in brief.\n",
    "\n",
    "1. user: Unique ID for each user.\n",
    "\n",
    "2. first_open: Date (yy-mm-dd) and time (Hour:Minute:Seconds:Milliseconds) of login on app first time.\n",
    "\n",
    "3. dayofweek: On which day user logon.\n",
    "\n",
    "    0: Sunday\n",
    "    1: Monday\n",
    "    2: Tuesday\n",
    "    3: Wednesday\n",
    "    4: Thursday\n",
    "    5: Friday\n",
    "    6: Saturday\n",
    "4. Hour: Time of a day in 24-hour format customer logon. It is correlated with dayofweek column.\n",
    "\n",
    "5. age: The age of the registered user.\n",
    "\n",
    "6. screen_list: The name of multiple screens seen by customers, which are separated by a comma.\n",
    "\n",
    "7. numscreens: The total number of screens seen by customers.\n",
    "\n",
    "8. minigame: Tha app contains small games related to finance. If the customer played mini-game then 1 otherwise 0.\n",
    "\n",
    "9. used_premium_feature: If the customer used the premium feature of the app then 1 otherwise 0.\n",
    "\n",
    "10. enrolled: If the user bought a premium feature app then 1 otherwise 0.\n",
    "\n",
    "11. enrolled_date: On the date (yy-mm-dd) and time (Hour:Minute:Seconds:Milliseconds) the user bought a premium features app.\n",
    "\n",
    "12. liked: The each screen of the app has a like button if the customer likes it then 1 otherwise 0."
   ]
  },
  {
   "cell_type": "code",
   "execution_count": 233,
   "metadata": {
    "colab": {},
    "colab_type": "code",
    "id": "LwEqIVqOTIHd"
   },
   "outputs": [],
   "source": [
    "# Importing essential libraries\n",
    "import numpy as np\n",
    "import pandas as pd\n",
    "import matplotlib.pyplot as plt\n",
    "%matplotlib inline\n",
    "import seaborn as sns\n",
    "from dateutil import parser"
   ]
  },
  {
   "cell_type": "code",
   "execution_count": 234,
   "metadata": {
    "colab": {},
    "colab_type": "code",
    "id": "JpIAT4StTd2m"
   },
   "outputs": [],
   "source": [
    "# Loading the dataset\n",
    "df = pd.read_csv(r\"C:\\Users\\emoin\\OneDrive\\Aegis Study Material\\hackathon\\FinTech\\FineTech_appData.csv\")"
   ]
  },
  {
   "cell_type": "markdown",
   "metadata": {
    "colab_type": "text",
    "id": "9BEBuDSiTwfU"
   },
   "source": [
    "# **Exploring the dataset**"
   ]
  },
  {
   "cell_type": "code",
   "execution_count": 235,
   "metadata": {
    "colab": {
     "base_uri": "https://localhost:8080/",
     "height": 34
    },
    "colab_type": "code",
    "id": "K0ACfPwfTrPN",
    "outputId": "1cb510c9-5507-45e1-9ef3-9b3250447c27"
   },
   "outputs": [
    {
     "data": {
      "text/plain": [
       "(50000, 12)"
      ]
     },
     "execution_count": 235,
     "metadata": {},
     "output_type": "execute_result"
    }
   ],
   "source": [
    "# Returns number of rows and columns of the dataset\n",
    "df.shape"
   ]
  },
  {
   "cell_type": "code",
   "execution_count": 236,
   "metadata": {
    "colab": {
     "base_uri": "https://localhost:8080/",
     "height": 70
    },
    "colab_type": "code",
    "id": "3YXc-hnxT3uT",
    "outputId": "463fa98c-07cf-4924-f93b-a6993e505528"
   },
   "outputs": [
    {
     "data": {
      "text/plain": [
       "Index(['user', 'first_open', 'dayofweek', 'hour', 'age', 'screen_list',\n",
       "       'numscreens', 'minigame', 'used_premium_feature', 'enrolled',\n",
       "       'enrolled_date', 'liked'],\n",
       "      dtype='object')"
      ]
     },
     "execution_count": 236,
     "metadata": {},
     "output_type": "execute_result"
    }
   ],
   "source": [
    "# Returns an object with all of the column headers\n",
    "df.columns"
   ]
  },
  {
   "cell_type": "code",
   "execution_count": 237,
   "metadata": {
    "colab": {
     "base_uri": "https://localhost:8080/",
     "height": 283
    },
    "colab_type": "code",
    "id": "VnR5V7tsUJ0L",
    "outputId": "ce26ebc9-71d7-4f22-8baf-6ee98015553c"
   },
   "outputs": [
    {
     "data": {
      "text/plain": [
       "user                     int64\n",
       "first_open              object\n",
       "dayofweek                int64\n",
       "hour                    object\n",
       "age                      int64\n",
       "screen_list             object\n",
       "numscreens               int64\n",
       "minigame                 int64\n",
       "used_premium_feature     int64\n",
       "enrolled                 int64\n",
       "enrolled_date           object\n",
       "liked                    int64\n",
       "dtype: object"
      ]
     },
     "execution_count": 237,
     "metadata": {},
     "output_type": "execute_result"
    }
   ],
   "source": [
    "# Returns different datatypes for each columns (float, int, string, bool, etc.)\n",
    "df.dtypes"
   ]
  },
  {
   "cell_type": "code",
   "execution_count": 238,
   "metadata": {
    "colab": {
     "base_uri": "https://localhost:8080/",
     "height": 197
    },
    "colab_type": "code",
    "id": "5eT5OXUVUPqD",
    "outputId": "e6f3ed41-ed28-41d7-ae9d-32179d61847a"
   },
   "outputs": [
    {
     "data": {
      "text/html": [
       "<div>\n",
       "<style scoped>\n",
       "    .dataframe tbody tr th:only-of-type {\n",
       "        vertical-align: middle;\n",
       "    }\n",
       "\n",
       "    .dataframe tbody tr th {\n",
       "        vertical-align: top;\n",
       "    }\n",
       "\n",
       "    .dataframe thead th {\n",
       "        text-align: right;\n",
       "    }\n",
       "</style>\n",
       "<table border=\"1\" class=\"dataframe\">\n",
       "  <thead>\n",
       "    <tr style=\"text-align: right;\">\n",
       "      <th></th>\n",
       "      <th>user</th>\n",
       "      <th>first_open</th>\n",
       "      <th>dayofweek</th>\n",
       "      <th>hour</th>\n",
       "      <th>age</th>\n",
       "      <th>screen_list</th>\n",
       "      <th>numscreens</th>\n",
       "      <th>minigame</th>\n",
       "      <th>used_premium_feature</th>\n",
       "      <th>enrolled</th>\n",
       "      <th>enrolled_date</th>\n",
       "      <th>liked</th>\n",
       "    </tr>\n",
       "  </thead>\n",
       "  <tbody>\n",
       "    <tr>\n",
       "      <th>0</th>\n",
       "      <td>235136</td>\n",
       "      <td>2012-12-27 02:14:51.273</td>\n",
       "      <td>3</td>\n",
       "      <td>02:00:00</td>\n",
       "      <td>23</td>\n",
       "      <td>idscreen,joinscreen,Cycle,product_review,ScanP...</td>\n",
       "      <td>15</td>\n",
       "      <td>0</td>\n",
       "      <td>0</td>\n",
       "      <td>0</td>\n",
       "      <td>NaN</td>\n",
       "      <td>0</td>\n",
       "    </tr>\n",
       "    <tr>\n",
       "      <th>1</th>\n",
       "      <td>333588</td>\n",
       "      <td>2012-12-02 01:16:00.905</td>\n",
       "      <td>6</td>\n",
       "      <td>01:00:00</td>\n",
       "      <td>24</td>\n",
       "      <td>joinscreen,product_review,product_review2,Scan...</td>\n",
       "      <td>13</td>\n",
       "      <td>0</td>\n",
       "      <td>0</td>\n",
       "      <td>0</td>\n",
       "      <td>NaN</td>\n",
       "      <td>0</td>\n",
       "    </tr>\n",
       "    <tr>\n",
       "      <th>2</th>\n",
       "      <td>254414</td>\n",
       "      <td>2013-03-19 19:19:09.157</td>\n",
       "      <td>1</td>\n",
       "      <td>19:00:00</td>\n",
       "      <td>23</td>\n",
       "      <td>Splash,Cycle,Loan</td>\n",
       "      <td>3</td>\n",
       "      <td>0</td>\n",
       "      <td>1</td>\n",
       "      <td>0</td>\n",
       "      <td>NaN</td>\n",
       "      <td>1</td>\n",
       "    </tr>\n",
       "    <tr>\n",
       "      <th>3</th>\n",
       "      <td>234192</td>\n",
       "      <td>2013-07-05 16:08:46.354</td>\n",
       "      <td>4</td>\n",
       "      <td>16:00:00</td>\n",
       "      <td>28</td>\n",
       "      <td>product_review,Home,product_review,Loan3,Finan...</td>\n",
       "      <td>40</td>\n",
       "      <td>0</td>\n",
       "      <td>0</td>\n",
       "      <td>1</td>\n",
       "      <td>2013-07-05 16:11:49.513</td>\n",
       "      <td>0</td>\n",
       "    </tr>\n",
       "    <tr>\n",
       "      <th>4</th>\n",
       "      <td>51549</td>\n",
       "      <td>2013-02-26 18:50:48.661</td>\n",
       "      <td>1</td>\n",
       "      <td>18:00:00</td>\n",
       "      <td>31</td>\n",
       "      <td>idscreen,joinscreen,Cycle,Credit3Container,Sca...</td>\n",
       "      <td>32</td>\n",
       "      <td>0</td>\n",
       "      <td>0</td>\n",
       "      <td>1</td>\n",
       "      <td>2013-02-26 18:56:37.841</td>\n",
       "      <td>1</td>\n",
       "    </tr>\n",
       "  </tbody>\n",
       "</table>\n",
       "</div>"
      ],
      "text/plain": [
       "     user               first_open  dayofweek       hour  age  \\\n",
       "0  235136  2012-12-27 02:14:51.273          3   02:00:00   23   \n",
       "1  333588  2012-12-02 01:16:00.905          6   01:00:00   24   \n",
       "2  254414  2013-03-19 19:19:09.157          1   19:00:00   23   \n",
       "3  234192  2013-07-05 16:08:46.354          4   16:00:00   28   \n",
       "4   51549  2013-02-26 18:50:48.661          1   18:00:00   31   \n",
       "\n",
       "                                         screen_list  numscreens  minigame  \\\n",
       "0  idscreen,joinscreen,Cycle,product_review,ScanP...          15         0   \n",
       "1  joinscreen,product_review,product_review2,Scan...          13         0   \n",
       "2                                  Splash,Cycle,Loan           3         0   \n",
       "3  product_review,Home,product_review,Loan3,Finan...          40         0   \n",
       "4  idscreen,joinscreen,Cycle,Credit3Container,Sca...          32         0   \n",
       "\n",
       "   used_premium_feature  enrolled            enrolled_date  liked  \n",
       "0                     0         0                      NaN      0  \n",
       "1                     0         0                      NaN      0  \n",
       "2                     1         0                      NaN      1  \n",
       "3                     0         1  2013-07-05 16:11:49.513      0  \n",
       "4                     0         1  2013-02-26 18:56:37.841      1  "
      ]
     },
     "execution_count": 238,
     "metadata": {},
     "output_type": "execute_result"
    }
   ],
   "source": [
    "df.head()"
   ]
  },
  {
   "cell_type": "code",
   "execution_count": 239,
   "metadata": {
    "colab": {
     "base_uri": "https://localhost:8080/",
     "height": 197
    },
    "colab_type": "code",
    "id": "obCDtwF6UW5r",
    "outputId": "fe7ecea3-7c94-4475-8370-b370d029e72a"
   },
   "outputs": [
    {
     "data": {
      "text/html": [
       "<div>\n",
       "<style scoped>\n",
       "    .dataframe tbody tr th:only-of-type {\n",
       "        vertical-align: middle;\n",
       "    }\n",
       "\n",
       "    .dataframe tbody tr th {\n",
       "        vertical-align: top;\n",
       "    }\n",
       "\n",
       "    .dataframe thead th {\n",
       "        text-align: right;\n",
       "    }\n",
       "</style>\n",
       "<table border=\"1\" class=\"dataframe\">\n",
       "  <thead>\n",
       "    <tr style=\"text-align: right;\">\n",
       "      <th></th>\n",
       "      <th>user</th>\n",
       "      <th>first_open</th>\n",
       "      <th>dayofweek</th>\n",
       "      <th>hour</th>\n",
       "      <th>age</th>\n",
       "      <th>screen_list</th>\n",
       "      <th>numscreens</th>\n",
       "      <th>minigame</th>\n",
       "      <th>used_premium_feature</th>\n",
       "      <th>enrolled</th>\n",
       "      <th>enrolled_date</th>\n",
       "      <th>liked</th>\n",
       "    </tr>\n",
       "  </thead>\n",
       "  <tbody>\n",
       "    <tr>\n",
       "      <th>49995</th>\n",
       "      <td>222774</td>\n",
       "      <td>2013-05-09 13:46:17.871</td>\n",
       "      <td>3</td>\n",
       "      <td>13:00:00</td>\n",
       "      <td>32</td>\n",
       "      <td>Splash,Home,ScanPreview,VerifyPhone,VerifySSN,...</td>\n",
       "      <td>13</td>\n",
       "      <td>0</td>\n",
       "      <td>0</td>\n",
       "      <td>1</td>\n",
       "      <td>2013-05-09 13:47:52.875</td>\n",
       "      <td>0</td>\n",
       "    </tr>\n",
       "    <tr>\n",
       "      <th>49996</th>\n",
       "      <td>169179</td>\n",
       "      <td>2013-04-09 00:05:17.823</td>\n",
       "      <td>1</td>\n",
       "      <td>00:00:00</td>\n",
       "      <td>35</td>\n",
       "      <td>Cycle,Splash,Home,RewardsContainer</td>\n",
       "      <td>4</td>\n",
       "      <td>0</td>\n",
       "      <td>1</td>\n",
       "      <td>0</td>\n",
       "      <td>NaN</td>\n",
       "      <td>0</td>\n",
       "    </tr>\n",
       "    <tr>\n",
       "      <th>49997</th>\n",
       "      <td>302367</td>\n",
       "      <td>2013-02-20 22:41:51.165</td>\n",
       "      <td>2</td>\n",
       "      <td>22:00:00</td>\n",
       "      <td>39</td>\n",
       "      <td>joinscreen,product_review,product_review2,Scan...</td>\n",
       "      <td>25</td>\n",
       "      <td>0</td>\n",
       "      <td>0</td>\n",
       "      <td>0</td>\n",
       "      <td>NaN</td>\n",
       "      <td>0</td>\n",
       "    </tr>\n",
       "    <tr>\n",
       "      <th>49998</th>\n",
       "      <td>324905</td>\n",
       "      <td>2013-04-28 12:33:04.288</td>\n",
       "      <td>6</td>\n",
       "      <td>12:00:00</td>\n",
       "      <td>27</td>\n",
       "      <td>Cycle,Home,product_review,product_review,produ...</td>\n",
       "      <td>26</td>\n",
       "      <td>0</td>\n",
       "      <td>0</td>\n",
       "      <td>1</td>\n",
       "      <td>2013-04-28 12:35:38.709</td>\n",
       "      <td>0</td>\n",
       "    </tr>\n",
       "    <tr>\n",
       "      <th>49999</th>\n",
       "      <td>27047</td>\n",
       "      <td>2012-12-14 01:22:44.638</td>\n",
       "      <td>4</td>\n",
       "      <td>01:00:00</td>\n",
       "      <td>25</td>\n",
       "      <td>product_review,ScanPreview,VerifyDateOfBirth,V...</td>\n",
       "      <td>26</td>\n",
       "      <td>0</td>\n",
       "      <td>0</td>\n",
       "      <td>0</td>\n",
       "      <td>NaN</td>\n",
       "      <td>1</td>\n",
       "    </tr>\n",
       "  </tbody>\n",
       "</table>\n",
       "</div>"
      ],
      "text/plain": [
       "         user               first_open  dayofweek       hour  age  \\\n",
       "49995  222774  2013-05-09 13:46:17.871          3   13:00:00   32   \n",
       "49996  169179  2013-04-09 00:05:17.823          1   00:00:00   35   \n",
       "49997  302367  2013-02-20 22:41:51.165          2   22:00:00   39   \n",
       "49998  324905  2013-04-28 12:33:04.288          6   12:00:00   27   \n",
       "49999   27047  2012-12-14 01:22:44.638          4   01:00:00   25   \n",
       "\n",
       "                                             screen_list  numscreens  \\\n",
       "49995  Splash,Home,ScanPreview,VerifyPhone,VerifySSN,...          13   \n",
       "49996                 Cycle,Splash,Home,RewardsContainer           4   \n",
       "49997  joinscreen,product_review,product_review2,Scan...          25   \n",
       "49998  Cycle,Home,product_review,product_review,produ...          26   \n",
       "49999  product_review,ScanPreview,VerifyDateOfBirth,V...          26   \n",
       "\n",
       "       minigame  used_premium_feature  enrolled            enrolled_date  \\\n",
       "49995         0                     0         1  2013-05-09 13:47:52.875   \n",
       "49996         0                     1         0                      NaN   \n",
       "49997         0                     0         0                      NaN   \n",
       "49998         0                     0         1  2013-04-28 12:35:38.709   \n",
       "49999         0                     0         0                      NaN   \n",
       "\n",
       "       liked  \n",
       "49995      0  \n",
       "49996      0  \n",
       "49997      0  \n",
       "49998      0  \n",
       "49999      1  "
      ]
     },
     "execution_count": 239,
     "metadata": {},
     "output_type": "execute_result"
    }
   ],
   "source": [
    "df.tail()"
   ]
  },
  {
   "cell_type": "code",
   "execution_count": 240,
   "metadata": {
    "colab": {
     "base_uri": "https://localhost:8080/",
     "height": 283
    },
    "colab_type": "code",
    "id": "KHyQmvp-UniL",
    "outputId": "26f1f9d2-85d6-41be-c2c8-0c71551044fc"
   },
   "outputs": [
    {
     "data": {
      "text/plain": [
       "user                    False\n",
       "first_open              False\n",
       "dayofweek               False\n",
       "hour                    False\n",
       "age                     False\n",
       "screen_list             False\n",
       "numscreens              False\n",
       "minigame                False\n",
       "used_premium_feature    False\n",
       "enrolled                False\n",
       "enrolled_date            True\n",
       "liked                   False\n",
       "dtype: bool"
      ]
     },
     "execution_count": 240,
     "metadata": {},
     "output_type": "execute_result"
    }
   ],
   "source": [
    "# Returns true for a column having null values, else false\n",
    "df.isnull().any()"
   ]
  },
  {
   "cell_type": "code",
   "execution_count": 241,
   "metadata": {},
   "outputs": [
    {
     "data": {
      "text/plain": [
       "18926"
      ]
     },
     "execution_count": 241,
     "metadata": {},
     "output_type": "execute_result"
    }
   ],
   "source": [
    "df.enrolled_date.isna().sum()#number of missing values in enrolled_date"
   ]
  },
  {
   "cell_type": "code",
   "execution_count": 242,
   "metadata": {
    "colab": {
     "base_uri": "https://localhost:8080/",
     "height": 390
    },
    "colab_type": "code",
    "id": "VDtNX8xfUauT",
    "outputId": "ea32a38c-1b15-41e5-bc28-ce2672a663d6"
   },
   "outputs": [
    {
     "name": "stdout",
     "output_type": "stream",
     "text": [
      "<class 'pandas.core.frame.DataFrame'>\n",
      "RangeIndex: 50000 entries, 0 to 49999\n",
      "Data columns (total 12 columns):\n",
      " #   Column                Non-Null Count  Dtype \n",
      "---  ------                --------------  ----- \n",
      " 0   user                  50000 non-null  int64 \n",
      " 1   first_open            50000 non-null  object\n",
      " 2   dayofweek             50000 non-null  int64 \n",
      " 3   hour                  50000 non-null  object\n",
      " 4   age                   50000 non-null  int64 \n",
      " 5   screen_list           50000 non-null  object\n",
      " 6   numscreens            50000 non-null  int64 \n",
      " 7   minigame              50000 non-null  int64 \n",
      " 8   used_premium_feature  50000 non-null  int64 \n",
      " 9   enrolled              50000 non-null  int64 \n",
      " 10  enrolled_date         31074 non-null  object\n",
      " 11  liked                 50000 non-null  int64 \n",
      "dtypes: int64(8), object(4)\n",
      "memory usage: 4.6+ MB\n"
     ]
    }
   ],
   "source": [
    "# Returns basic information on all columns\n",
    "df.info()"
   ]
  },
  {
   "cell_type": "code",
   "execution_count": 243,
   "metadata": {
    "colab": {
     "base_uri": "https://localhost:8080/",
     "height": 467
    },
    "colab_type": "code",
    "id": "01LQR7NmUe67",
    "outputId": "f235e330-82e9-408d-9c89-0795a7e2f423"
   },
   "outputs": [
    {
     "data": {
      "text/html": [
       "<div>\n",
       "<style scoped>\n",
       "    .dataframe tbody tr th:only-of-type {\n",
       "        vertical-align: middle;\n",
       "    }\n",
       "\n",
       "    .dataframe tbody tr th {\n",
       "        vertical-align: top;\n",
       "    }\n",
       "\n",
       "    .dataframe thead th {\n",
       "        text-align: right;\n",
       "    }\n",
       "</style>\n",
       "<table border=\"1\" class=\"dataframe\">\n",
       "  <thead>\n",
       "    <tr style=\"text-align: right;\">\n",
       "      <th></th>\n",
       "      <th>count</th>\n",
       "      <th>mean</th>\n",
       "      <th>std</th>\n",
       "      <th>min</th>\n",
       "      <th>25%</th>\n",
       "      <th>50%</th>\n",
       "      <th>75%</th>\n",
       "      <th>max</th>\n",
       "    </tr>\n",
       "  </thead>\n",
       "  <tbody>\n",
       "    <tr>\n",
       "      <th>user</th>\n",
       "      <td>50000.0</td>\n",
       "      <td>186889.72990</td>\n",
       "      <td>107768.520361</td>\n",
       "      <td>13.0</td>\n",
       "      <td>93526.75</td>\n",
       "      <td>187193.5</td>\n",
       "      <td>279984.25</td>\n",
       "      <td>373662.0</td>\n",
       "    </tr>\n",
       "    <tr>\n",
       "      <th>dayofweek</th>\n",
       "      <td>50000.0</td>\n",
       "      <td>3.02986</td>\n",
       "      <td>2.031997</td>\n",
       "      <td>0.0</td>\n",
       "      <td>1.00</td>\n",
       "      <td>3.0</td>\n",
       "      <td>5.00</td>\n",
       "      <td>6.0</td>\n",
       "    </tr>\n",
       "    <tr>\n",
       "      <th>age</th>\n",
       "      <td>50000.0</td>\n",
       "      <td>31.72436</td>\n",
       "      <td>10.803310</td>\n",
       "      <td>16.0</td>\n",
       "      <td>24.00</td>\n",
       "      <td>29.0</td>\n",
       "      <td>37.00</td>\n",
       "      <td>101.0</td>\n",
       "    </tr>\n",
       "    <tr>\n",
       "      <th>numscreens</th>\n",
       "      <td>50000.0</td>\n",
       "      <td>21.09590</td>\n",
       "      <td>15.728812</td>\n",
       "      <td>1.0</td>\n",
       "      <td>10.00</td>\n",
       "      <td>18.0</td>\n",
       "      <td>28.00</td>\n",
       "      <td>325.0</td>\n",
       "    </tr>\n",
       "    <tr>\n",
       "      <th>minigame</th>\n",
       "      <td>50000.0</td>\n",
       "      <td>0.10782</td>\n",
       "      <td>0.310156</td>\n",
       "      <td>0.0</td>\n",
       "      <td>0.00</td>\n",
       "      <td>0.0</td>\n",
       "      <td>0.00</td>\n",
       "      <td>1.0</td>\n",
       "    </tr>\n",
       "    <tr>\n",
       "      <th>used_premium_feature</th>\n",
       "      <td>50000.0</td>\n",
       "      <td>0.17202</td>\n",
       "      <td>0.377402</td>\n",
       "      <td>0.0</td>\n",
       "      <td>0.00</td>\n",
       "      <td>0.0</td>\n",
       "      <td>0.00</td>\n",
       "      <td>1.0</td>\n",
       "    </tr>\n",
       "    <tr>\n",
       "      <th>enrolled</th>\n",
       "      <td>50000.0</td>\n",
       "      <td>0.62148</td>\n",
       "      <td>0.485023</td>\n",
       "      <td>0.0</td>\n",
       "      <td>0.00</td>\n",
       "      <td>1.0</td>\n",
       "      <td>1.00</td>\n",
       "      <td>1.0</td>\n",
       "    </tr>\n",
       "    <tr>\n",
       "      <th>liked</th>\n",
       "      <td>50000.0</td>\n",
       "      <td>0.16500</td>\n",
       "      <td>0.371184</td>\n",
       "      <td>0.0</td>\n",
       "      <td>0.00</td>\n",
       "      <td>0.0</td>\n",
       "      <td>0.00</td>\n",
       "      <td>1.0</td>\n",
       "    </tr>\n",
       "  </tbody>\n",
       "</table>\n",
       "</div>"
      ],
      "text/plain": [
       "                        count          mean            std   min       25%  \\\n",
       "user                  50000.0  186889.72990  107768.520361  13.0  93526.75   \n",
       "dayofweek             50000.0       3.02986       2.031997   0.0      1.00   \n",
       "age                   50000.0      31.72436      10.803310  16.0     24.00   \n",
       "numscreens            50000.0      21.09590      15.728812   1.0     10.00   \n",
       "minigame              50000.0       0.10782       0.310156   0.0      0.00   \n",
       "used_premium_feature  50000.0       0.17202       0.377402   0.0      0.00   \n",
       "enrolled              50000.0       0.62148       0.485023   0.0      0.00   \n",
       "liked                 50000.0       0.16500       0.371184   0.0      0.00   \n",
       "\n",
       "                           50%        75%       max  \n",
       "user                  187193.5  279984.25  373662.0  \n",
       "dayofweek                  3.0       5.00       6.0  \n",
       "age                       29.0      37.00     101.0  \n",
       "numscreens                18.0      28.00     325.0  \n",
       "minigame                   0.0       0.00       1.0  \n",
       "used_premium_feature       0.0       0.00       1.0  \n",
       "enrolled                   1.0       1.00       1.0  \n",
       "liked                      0.0       0.00       1.0  "
      ]
     },
     "execution_count": 243,
     "metadata": {},
     "output_type": "execute_result"
    }
   ],
   "source": [
    "# Returns basic statistics on numeric columns\n",
    "df.describe().T"
   ]
  },
  {
   "cell_type": "markdown",
   "metadata": {
    "colab_type": "text",
    "id": "cVlUJwidVjLr"
   },
   "source": [
    "# **Data Visualization**"
   ]
  },
  {
   "cell_type": "code",
   "execution_count": 244,
   "metadata": {
    "colab": {},
    "colab_type": "code",
    "id": "eBqQ2CkTWBlj"
   },
   "outputs": [],
   "source": [
    "# Importing essential libraries\n",
    "import matplotlib.pyplot as plt\n",
    "%matplotlib inline\n",
    "import seaborn as sns"
   ]
  },
  {
   "cell_type": "code",
   "execution_count": 245,
   "metadata": {
    "colab": {
     "base_uri": "https://localhost:8080/",
     "height": 0
    },
    "colab_type": "code",
    "id": "EMtmzTXUVp37",
    "outputId": "62cd0d7f-408d-417a-bdea-c3ee30ff0e38"
   },
   "outputs": [
    {
     "name": "stderr",
     "output_type": "stream",
     "text": [
      "C:\\Users\\emoin\\Anaconda3\\lib\\site-packages\\ipykernel_launcher.py:4: UserWarning: To output multiple subplots, the figure containing the passed axes is being cleared\n",
      "  after removing the cwd from sys.path.\n"
     ]
    },
    {
     "data": {
      "image/png": "[encoded data removed]",
      "text/plain": [
       "<Figure size 1080x1080 with 9 Axes>"
      ]
     },
     "metadata": {
      "needs_background": "light"
     },
     "output_type": "display_data"
    }
   ],
   "source": [
    "# Plotting histogram for the entire dataset\n",
    "fig = plt.figure(figsize = (15,15))\n",
    "ax = fig.gca()\n",
    "g = df.hist(ax=ax)"
   ]
  },
  {
   "cell_type": "code",
   "execution_count": null,
   "metadata": {},
   "outputs": [],
   "source": []
  },
  {
   "cell_type": "code",
   "execution_count": null,
   "metadata": {},
   "outputs": [],
   "source": []
  },
  {
   "cell_type": "code",
   "execution_count": null,
   "metadata": {},
   "outputs": [],
   "source": []
  },
  {
   "cell_type": "code",
   "execution_count": null,
   "metadata": {},
   "outputs": [],
   "source": []
  },
  {
   "cell_type": "markdown",
   "metadata": {},
   "source": [
    "## Converting data types"
   ]
  },
  {
   "cell_type": "code",
   "execution_count": 246,
   "metadata": {},
   "outputs": [
    {
     "data": {
      "text/plain": [
       "user                     int64\n",
       "first_open              object\n",
       "dayofweek                int64\n",
       "hour                    object\n",
       "age                      int64\n",
       "screen_list             object\n",
       "numscreens               int64\n",
       "minigame                 int64\n",
       "used_premium_feature     int64\n",
       "enrolled                 int64\n",
       "enrolled_date           object\n",
       "liked                    int64\n",
       "dtype: object"
      ]
     },
     "execution_count": 246,
     "metadata": {},
     "output_type": "execute_result"
    }
   ],
   "source": [
    "df.dtypes"
   ]
  },
  {
   "cell_type": "code",
   "execution_count": 247,
   "metadata": {},
   "outputs": [],
   "source": [
    "df.hour = pd.to_datetime(df.hour, format = ' %H:%M:%S').dt.hour"
   ]
  },
  {
   "cell_type": "code",
   "execution_count": 248,
   "metadata": {},
   "outputs": [
    {
     "data": {
      "text/plain": [
       "user                             int64\n",
       "first_open              datetime64[ns]\n",
       "dayofweek                        int64\n",
       "hour                             int64\n",
       "age                              int64\n",
       "screen_list                     object\n",
       "numscreens                       int64\n",
       "minigame                         int64\n",
       "used_premium_feature             int64\n",
       "enrolled                         int64\n",
       "enrolled_date           datetime64[ns]\n",
       "liked                            int64\n",
       "dtype: object"
      ]
     },
     "execution_count": 248,
     "metadata": {},
     "output_type": "execute_result"
    }
   ],
   "source": [
    "df['first_open'] = pd.to_datetime(df.first_open)\n",
    " \n",
    "df['enrolled_date'] = pd.to_datetime(df.enrolled_date)\n",
    " \n",
    "df.dtypes"
   ]
  },
  {
   "cell_type": "code",
   "execution_count": 249,
   "metadata": {},
   "outputs": [],
   "source": [
    "##creating new column for time taken in hours by customer to get enrolled after 1st login\n",
    "df['time_to_enrolled'] = (df.enrolled_date-df.first_open).astype('timedelta64[h]')"
   ]
  },
  {
   "cell_type": "code",
   "execution_count": 250,
   "metadata": {},
   "outputs": [
    {
     "data": {
      "text/plain": [
       "8190"
      ]
     },
     "execution_count": 250,
     "metadata": {},
     "output_type": "execute_result"
    }
   ],
   "source": [
    "(df[df.time_to_enrolled>10]['time_to_enrolled']).count()"
   ]
  },
  {
   "cell_type": "code",
   "execution_count": 251,
   "metadata": {},
   "outputs": [],
   "source": [
    "categorical_cols = ['minigame','used_premium_feature','enrolled']"
   ]
  },
  {
   "cell_type": "markdown",
   "metadata": {
    "colab_type": "text",
    "id": "7xYk6MvkVH_b"
   },
   "source": [
    "# **Feature Engineering**"
   ]
  },
  {
   "cell_type": "markdown",
   "metadata": {
    "colab_type": "text",
    "id": "iDJlzXOTVLvD"
   },
   "source": [
    "### Feature Selection"
   ]
  },
  {
   "cell_type": "code",
   "execution_count": 252,
   "metadata": {
    "colab": {
     "base_uri": "https://localhost:8080/",
     "height": 1000
    },
    "colab_type": "code",
    "id": "CJr1KF-2VLHM",
    "outputId": "584775fb-1543-4e67-f967-cc11d2dcc397"
   },
   "outputs": [
    {
     "data": {
      "text/plain": [
       "<AxesSubplot:>"
      ]
     },
     "execution_count": 252,
     "metadata": {},
     "output_type": "execute_result"
    },
    {
     "data": {
      "image/png": "[encoded data removed]",
      "text/plain": [
       "<Figure size 1440x1440 with 2 Axes>"
      ]
     },
     "metadata": {
      "needs_background": "light"
     },
     "output_type": "display_data"
    }
   ],
   "source": [
    "# Selecting correlated features using Heatmap\n",
    "\n",
    "# Get correlation of all the features of the dataset\n",
    "corr_matrix = df.corr()\n",
    "top_corr_features = corr_matrix.index\n",
    "\n",
    "# Plotting the heatmap\n",
    "plt.figure(figsize=(20,20))\n",
    "sns.heatmap(data=df[top_corr_features].corr(), annot=True, cmap='RdYlGn')"
   ]
  },
  {
   "cell_type": "code",
   "execution_count": 253,
   "metadata": {},
   "outputs": [
    {
     "data": {
      "text/html": [
       "<div>\n",
       "<style scoped>\n",
       "    .dataframe tbody tr th:only-of-type {\n",
       "        vertical-align: middle;\n",
       "    }\n",
       "\n",
       "    .dataframe tbody tr th {\n",
       "        vertical-align: top;\n",
       "    }\n",
       "\n",
       "    .dataframe thead th {\n",
       "        text-align: right;\n",
       "    }\n",
       "</style>\n",
       "<table border=\"1\" class=\"dataframe\">\n",
       "  <thead>\n",
       "    <tr style=\"text-align: right;\">\n",
       "      <th></th>\n",
       "      <th>user</th>\n",
       "      <th>dayofweek</th>\n",
       "      <th>hour</th>\n",
       "      <th>age</th>\n",
       "      <th>numscreens</th>\n",
       "      <th>minigame</th>\n",
       "      <th>used_premium_feature</th>\n",
       "      <th>liked</th>\n",
       "      <th>time_to_enrolled</th>\n",
       "    </tr>\n",
       "  </thead>\n",
       "  <tbody>\n",
       "    <tr>\n",
       "      <th>0</th>\n",
       "      <td>235136</td>\n",
       "      <td>3</td>\n",
       "      <td>2</td>\n",
       "      <td>23</td>\n",
       "      <td>15</td>\n",
       "      <td>0</td>\n",
       "      <td>0</td>\n",
       "      <td>0</td>\n",
       "      <td>NaN</td>\n",
       "    </tr>\n",
       "    <tr>\n",
       "      <th>1</th>\n",
       "      <td>333588</td>\n",
       "      <td>6</td>\n",
       "      <td>1</td>\n",
       "      <td>24</td>\n",
       "      <td>13</td>\n",
       "      <td>0</td>\n",
       "      <td>0</td>\n",
       "      <td>0</td>\n",
       "      <td>NaN</td>\n",
       "    </tr>\n",
       "    <tr>\n",
       "      <th>2</th>\n",
       "      <td>254414</td>\n",
       "      <td>1</td>\n",
       "      <td>19</td>\n",
       "      <td>23</td>\n",
       "      <td>3</td>\n",
       "      <td>0</td>\n",
       "      <td>1</td>\n",
       "      <td>1</td>\n",
       "      <td>NaN</td>\n",
       "    </tr>\n",
       "    <tr>\n",
       "      <th>3</th>\n",
       "      <td>234192</td>\n",
       "      <td>4</td>\n",
       "      <td>16</td>\n",
       "      <td>28</td>\n",
       "      <td>40</td>\n",
       "      <td>0</td>\n",
       "      <td>0</td>\n",
       "      <td>0</td>\n",
       "      <td>0.0</td>\n",
       "    </tr>\n",
       "    <tr>\n",
       "      <th>4</th>\n",
       "      <td>51549</td>\n",
       "      <td>1</td>\n",
       "      <td>18</td>\n",
       "      <td>31</td>\n",
       "      <td>32</td>\n",
       "      <td>0</td>\n",
       "      <td>0</td>\n",
       "      <td>1</td>\n",
       "      <td>0.0</td>\n",
       "    </tr>\n",
       "    <tr>\n",
       "      <th>...</th>\n",
       "      <td>...</td>\n",
       "      <td>...</td>\n",
       "      <td>...</td>\n",
       "      <td>...</td>\n",
       "      <td>...</td>\n",
       "      <td>...</td>\n",
       "      <td>...</td>\n",
       "      <td>...</td>\n",
       "      <td>...</td>\n",
       "    </tr>\n",
       "    <tr>\n",
       "      <th>49995</th>\n",
       "      <td>222774</td>\n",
       "      <td>3</td>\n",
       "      <td>13</td>\n",
       "      <td>32</td>\n",
       "      <td>13</td>\n",
       "      <td>0</td>\n",
       "      <td>0</td>\n",
       "      <td>0</td>\n",
       "      <td>0.0</td>\n",
       "    </tr>\n",
       "    <tr>\n",
       "      <th>49996</th>\n",
       "      <td>169179</td>\n",
       "      <td>1</td>\n",
       "      <td>0</td>\n",
       "      <td>35</td>\n",
       "      <td>4</td>\n",
       "      <td>0</td>\n",
       "      <td>1</td>\n",
       "      <td>0</td>\n",
       "      <td>NaN</td>\n",
       "    </tr>\n",
       "    <tr>\n",
       "      <th>49997</th>\n",
       "      <td>302367</td>\n",
       "      <td>2</td>\n",
       "      <td>22</td>\n",
       "      <td>39</td>\n",
       "      <td>25</td>\n",
       "      <td>0</td>\n",
       "      <td>0</td>\n",
       "      <td>0</td>\n",
       "      <td>NaN</td>\n",
       "    </tr>\n",
       "    <tr>\n",
       "      <th>49998</th>\n",
       "      <td>324905</td>\n",
       "      <td>6</td>\n",
       "      <td>12</td>\n",
       "      <td>27</td>\n",
       "      <td>26</td>\n",
       "      <td>0</td>\n",
       "      <td>0</td>\n",
       "      <td>0</td>\n",
       "      <td>0.0</td>\n",
       "    </tr>\n",
       "    <tr>\n",
       "      <th>49999</th>\n",
       "      <td>27047</td>\n",
       "      <td>4</td>\n",
       "      <td>1</td>\n",
       "      <td>25</td>\n",
       "      <td>26</td>\n",
       "      <td>0</td>\n",
       "      <td>0</td>\n",
       "      <td>1</td>\n",
       "      <td>NaN</td>\n",
       "    </tr>\n",
       "  </tbody>\n",
       "</table>\n",
       "<p>50000 rows × 9 columns</p>\n",
       "</div>"
      ],
      "text/plain": [
       "         user  dayofweek  hour  age  numscreens  minigame  \\\n",
       "0      235136          3     2   23          15         0   \n",
       "1      333588          6     1   24          13         0   \n",
       "2      254414          1    19   23           3         0   \n",
       "3      234192          4    16   28          40         0   \n",
       "4       51549          1    18   31          32         0   \n",
       "...       ...        ...   ...  ...         ...       ...   \n",
       "49995  222774          3    13   32          13         0   \n",
       "49996  169179          1     0   35           4         0   \n",
       "49997  302367          2    22   39          25         0   \n",
       "49998  324905          6    12   27          26         0   \n",
       "49999   27047          4     1   25          26         0   \n",
       "\n",
       "       used_premium_feature  liked  time_to_enrolled  \n",
       "0                         0      0               NaN  \n",
       "1                         0      0               NaN  \n",
       "2                         1      1               NaN  \n",
       "3                         0      0               0.0  \n",
       "4                         0      1               0.0  \n",
       "...                     ...    ...               ...  \n",
       "49995                     0      0               0.0  \n",
       "49996                     1      0               NaN  \n",
       "49997                     0      0               NaN  \n",
       "49998                     0      0               0.0  \n",
       "49999                     0      1               NaN  \n",
       "\n",
       "[50000 rows x 9 columns]"
      ]
     },
     "execution_count": 253,
     "metadata": {},
     "output_type": "execute_result"
    }
   ],
   "source": [
    "df.select_dtypes(include='number').drop(['enrolled'], axis = 1)"
   ]
  },
  {
   "cell_type": "code",
   "execution_count": 254,
   "metadata": {},
   "outputs": [
    {
     "data": {
      "image/png": "[encoded data removed]",
      "text/plain": [
       "<Figure size 1008x360 with 1 Axes>"
      ]
     },
     "metadata": {},
     "output_type": "display_data"
    }
   ],
   "source": [
    "# show corelation barplot \n",
    " \n",
    "sns.set() # set background dark grid\n",
    "plt.figure(figsize = (14,5))\n",
    "plt.title(\"Correlation all features with 'enrolled' \", fontsize = 20)\n",
    "df1 = df.select_dtypes(include='number').drop(['enrolled'], axis = 1) # drop 'enrolled' feature\n",
    "ax =sns.barplot(df1.columns,df1.corrwith(df.enrolled)) # plot barplot \n",
    "ax.tick_params(labelsize=15, labelrotation = 20, color =\"k\") # decorate x &amp; y ticks font"
   ]
  },
  {
   "cell_type": "code",
   "execution_count": 255,
   "metadata": {},
   "outputs": [
    {
     "data": {
      "text/plain": [
       "(50000, 9)"
      ]
     },
     "execution_count": 255,
     "metadata": {},
     "output_type": "execute_result"
    }
   ],
   "source": [
    "##Drop some ‘time_to_enrolled’, ‘enrolled_date’, ‘first_open’ feature they are not strongly correlated to the result.\n",
    "df_fs = df.drop(columns = ['user','time_to_enrolled', 'enrolled_date', 'first_open'])\n",
    "df_fs.shape"
   ]
  },
  {
   "cell_type": "markdown",
   "metadata": {},
   "source": [
    "## Treating screen_list column"
   ]
  },
  {
   "cell_type": "code",
   "execution_count": 256,
   "metadata": {},
   "outputs": [],
   "source": [
    "sc_list = []\n",
    "for i, value in enumerate(df.screen_list):\n",
    "    x = value\n",
    "    sc_list +=(x.split(','))"
   ]
  },
  {
   "cell_type": "code",
   "execution_count": 257,
   "metadata": {},
   "outputs": [],
   "source": [
    "from collections import Counter"
   ]
  },
  {
   "cell_type": "code",
   "execution_count": 258,
   "metadata": {},
   "outputs": [],
   "source": [
    "a = Counter(sc_list)"
   ]
  },
  {
   "cell_type": "code",
   "execution_count": 259,
   "metadata": {},
   "outputs": [],
   "source": [
    "b = dict(a)"
   ]
  },
  {
   "cell_type": "code",
   "execution_count": 260,
   "metadata": {},
   "outputs": [
    {
     "name": "stdout",
     "output_type": "stream",
     "text": [
      "product_review 94218\n",
      "Home 38098\n",
      "ScanPreview 28351\n",
      "VerifyPhone 26230\n",
      "location 25888\n",
      "Loan2 25319\n",
      "VerifyDateOfBirth 23674\n",
      "VerifySSN 21546\n",
      "VerifyCountry 21158\n",
      "VerifyToken 20332\n",
      "product_review3 19613\n",
      "SelectInstitution 19595\n",
      "Cycle 17777\n",
      "product_review2 17127\n",
      "idscreen 17035\n",
      "Credit3Container 16489\n",
      "BankVerification 15901\n",
      "Institutions 14648\n",
      "joinscreen 13318\n",
      "Splash 10038\n",
      "Credit1 9741\n",
      "Credit3Dashboard 9530\n",
      "ReferralContainer 8448\n",
      "ProfilePage 7902\n",
      "Loan3 7160\n",
      "Credit2 5402\n",
      "Credit3 4889\n",
      "Loan1 4603\n",
      "CC1 4370\n",
      "RewardsContainer 4200\n",
      "CommunityAndInvites 4028\n",
      "MLWebView 3828\n",
      "Finances 3819\n",
      "Settings 3491\n",
      "Alerts 3457\n",
      "Saving9 3005\n",
      "CC1Category 2998\n",
      "Saving8 2784\n",
      "VerifyMobile 2693\n",
      "Saving1 2627\n",
      "Leaderboard 2576\n",
      "Saving10 2456\n",
      "EditProfile 2449\n",
      "ProfileMaritalStatus 2378\n",
      "ProfileChildren 2308\n",
      "Saving4 2225\n",
      "VerifyHousing 2149\n",
      "ProfileEducation 2141\n",
      "VerifyHousingAmount 2071\n",
      "ProfileEducationMajor 2053\n",
      "ProfileVerifySSN 2003\n",
      "GroupedInstitutions 1814\n",
      "History 1617\n",
      "RewardDetail 1546\n",
      "CC3 1475\n",
      "Rewardjoinscreen 1404\n",
      "Saving7 1360\n",
      "AccountView 1311\n",
      "LoginForm 1254\n",
      "Rewards 1221\n",
      "VerifyIncomeType 1218\n",
      "VerifyAnnualIncome 1179\n",
      "ProfileJobTitle 1123\n",
      "ProfileCompanyName 1067\n",
      "ProfileEmploymentLength 1058\n",
      "Saving6 1038\n",
      "WebView 1000\n",
      "Saving5 995\n",
      "Login 896\n",
      "Loan4 808\n",
      "Saving2 791\n",
      "FindFriendsCycle 765\n",
      "Saving2Amount 763\n",
      "VerifyBankInfo 744\n",
      "SecurityModal 711\n",
      "TransactionList 670\n",
      "ResendToken 667\n",
      "product_review4 663\n",
      "NewContactListInvite 637\n",
      "product_review5 632\n",
      "About 553\n",
      "Loan 549\n",
      "WelcomeBankVerification 474\n",
      "BVPlaidLinkContainer 461\n",
      "NetworkFailure 410\n",
      "Credit3Alerts 398\n",
      "ManageFinances 392\n",
      "ListPicker 379\n",
      "ProfileVerifyIncomeType 371\n",
      "LoanAppPaymentSchedule 347\n",
      "Signup 303\n",
      "SignupName 297\n",
      "LandingScreen 279\n",
      "ProfileAnnualIncome 263\n",
      "LLLoanAmount 260\n",
      "SavingGoalOther 247\n",
      "YourNetwork 215\n",
      "ForgotPassword 181\n",
      "LoanAppESign 175\n",
      "LoanAppDenied 148\n",
      "LoanAppSuccess 146\n",
      "LoanAppScheduleCall 135\n",
      "SavingGoalPreview 134\n",
      "ReferralScreen 130\n",
      "Referrals 124\n",
      "SavingGoalIncomeSalary 104\n",
      "Payoff 103\n",
      "CameraScreen 103\n",
      "LoanAppRequestAmount 95\n",
      "Profileproduct_review 79\n",
      "LoanAppReasons 78\n",
      "ContactInfoConfirm 69\n",
      "SavingGoalEdit 64\n",
      "LoanAppPromoCode 62\n",
      "InstantOfferCreateAccount 61\n",
      "SignupEmail 59\n",
      "BoostFriendsList 57\n",
      "LoanAppBankInfo 42\n",
      "Credits 41\n",
      "ReviewCreditCard 35\n",
      "LoanAppAgreement 29\n",
      "EmploymentSummary 24\n",
      "BVStats 24\n",
      "ProviderList 17\n",
      "AddVehicle 16\n",
      "AdverseActions 13\n",
      "LoanAppConfirmWithdrawal 12\n",
      "EmploymentInfo 8\n",
      "LoanAppWithdrawn 6\n",
      "LoanAppVerifyBankInfo 5\n",
      "AddProperty 4\n",
      "IdentityVerification 2\n",
      "NetworkUser 2\n",
      "InstantLoanSSN 2\n",
      "LoanAppLoan4 1\n",
      "Credit3CTA 1\n",
      "IdAndSelfieCameraScreen 1\n"
     ]
    }
   ],
   "source": [
    "for w in sorted(b, key=b.get, reverse=True):\n",
    "    print(w, b[w])"
   ]
  },
  {
   "cell_type": "code",
   "execution_count": 261,
   "metadata": {},
   "outputs": [],
   "source": [
    "sc_name_sorted = sorted(b,key=b.get,reverse=True)#screen names in descending order"
   ]
  },
  {
   "cell_type": "code",
   "execution_count": 262,
   "metadata": {},
   "outputs": [
    {
     "data": {
      "text/plain": [
       "137"
      ]
     },
     "execution_count": 262,
     "metadata": {},
     "output_type": "execute_result"
    }
   ],
   "source": [
    "len(sc_name_sorted)"
   ]
  },
  {
   "cell_type": "code",
   "execution_count": 263,
   "metadata": {},
   "outputs": [],
   "source": [
    "for screen_name in sc_name_sorted[0:50]:\n",
    "    df_fs[screen_name] = df_fs.screen_list.str.contains(screen_name).astype(int)"
   ]
  },
  {
   "cell_type": "code",
   "execution_count": 264,
   "metadata": {},
   "outputs": [
    {
     "data": {
      "text/plain": [
       "(50000, 59)"
      ]
     },
     "execution_count": 264,
     "metadata": {},
     "output_type": "execute_result"
    }
   ],
   "source": [
    "df_fs.shape"
   ]
  },
  {
   "cell_type": "code",
   "execution_count": 265,
   "metadata": {},
   "outputs": [],
   "source": [
    "df_fs.drop(columns = ['screen_list'], inplace=True)#dropping screen_list column"
   ]
  },
  {
   "cell_type": "code",
   "execution_count": 266,
   "metadata": {},
   "outputs": [
    {
     "data": {
      "text/plain": [
       "Index(['dayofweek', 'hour', 'age', 'numscreens', 'minigame',\n",
       "       'used_premium_feature', 'enrolled', 'liked', 'product_review', 'Home',\n",
       "       'ScanPreview', 'VerifyPhone', 'location', 'Loan2', 'VerifyDateOfBirth',\n",
       "       'VerifySSN', 'VerifyCountry', 'VerifyToken', 'product_review3',\n",
       "       'SelectInstitution', 'Cycle', 'product_review2', 'idscreen',\n",
       "       'Credit3Container', 'BankVerification', 'Institutions', 'joinscreen',\n",
       "       'Splash', 'Credit1', 'Credit3Dashboard', 'ReferralContainer',\n",
       "       'ProfilePage', 'Loan3', 'Credit2', 'Credit3', 'Loan1', 'CC1',\n",
       "       'RewardsContainer', 'CommunityAndInvites', 'MLWebView', 'Finances',\n",
       "       'Settings', 'Alerts', 'Saving9', 'CC1Category', 'Saving8',\n",
       "       'VerifyMobile', 'Saving1', 'Leaderboard', 'Saving10', 'EditProfile',\n",
       "       'ProfileMaritalStatus', 'ProfileChildren', 'Saving4', 'VerifyHousing',\n",
       "       'ProfileEducation', 'VerifyHousingAmount', 'ProfileEducationMajor'],\n",
       "      dtype='object')"
      ]
     },
     "execution_count": 266,
     "metadata": {},
     "output_type": "execute_result"
    }
   ],
   "source": [
    "df_fs.columns"
   ]
  },
  {
   "cell_type": "code",
   "execution_count": 267,
   "metadata": {},
   "outputs": [
    {
     "data": {
      "text/html": [
       "<div>\n",
       "<style scoped>\n",
       "    .dataframe tbody tr th:only-of-type {\n",
       "        vertical-align: middle;\n",
       "    }\n",
       "\n",
       "    .dataframe tbody tr th {\n",
       "        vertical-align: top;\n",
       "    }\n",
       "\n",
       "    .dataframe thead th {\n",
       "        text-align: right;\n",
       "    }\n",
       "</style>\n",
       "<table border=\"1\" class=\"dataframe\">\n",
       "  <thead>\n",
       "    <tr style=\"text-align: right;\">\n",
       "      <th></th>\n",
       "      <th>dayofweek</th>\n",
       "      <th>hour</th>\n",
       "      <th>age</th>\n",
       "      <th>numscreens</th>\n",
       "      <th>minigame</th>\n",
       "      <th>used_premium_feature</th>\n",
       "      <th>enrolled</th>\n",
       "      <th>liked</th>\n",
       "      <th>product_review</th>\n",
       "      <th>Home</th>\n",
       "      <th>...</th>\n",
       "      <th>Leaderboard</th>\n",
       "      <th>Saving10</th>\n",
       "      <th>EditProfile</th>\n",
       "      <th>ProfileMaritalStatus</th>\n",
       "      <th>ProfileChildren</th>\n",
       "      <th>Saving4</th>\n",
       "      <th>VerifyHousing</th>\n",
       "      <th>ProfileEducation</th>\n",
       "      <th>VerifyHousingAmount</th>\n",
       "      <th>ProfileEducationMajor</th>\n",
       "    </tr>\n",
       "  </thead>\n",
       "  <tbody>\n",
       "    <tr>\n",
       "      <th>0</th>\n",
       "      <td>3</td>\n",
       "      <td>2</td>\n",
       "      <td>23</td>\n",
       "      <td>15</td>\n",
       "      <td>0</td>\n",
       "      <td>0</td>\n",
       "      <td>0</td>\n",
       "      <td>0</td>\n",
       "      <td>1</td>\n",
       "      <td>0</td>\n",
       "      <td>...</td>\n",
       "      <td>0</td>\n",
       "      <td>0</td>\n",
       "      <td>0</td>\n",
       "      <td>0</td>\n",
       "      <td>0</td>\n",
       "      <td>0</td>\n",
       "      <td>0</td>\n",
       "      <td>0</td>\n",
       "      <td>0</td>\n",
       "      <td>0</td>\n",
       "    </tr>\n",
       "    <tr>\n",
       "      <th>1</th>\n",
       "      <td>6</td>\n",
       "      <td>1</td>\n",
       "      <td>24</td>\n",
       "      <td>13</td>\n",
       "      <td>0</td>\n",
       "      <td>0</td>\n",
       "      <td>0</td>\n",
       "      <td>0</td>\n",
       "      <td>1</td>\n",
       "      <td>0</td>\n",
       "      <td>...</td>\n",
       "      <td>0</td>\n",
       "      <td>0</td>\n",
       "      <td>0</td>\n",
       "      <td>0</td>\n",
       "      <td>0</td>\n",
       "      <td>0</td>\n",
       "      <td>0</td>\n",
       "      <td>0</td>\n",
       "      <td>0</td>\n",
       "      <td>0</td>\n",
       "    </tr>\n",
       "    <tr>\n",
       "      <th>2</th>\n",
       "      <td>1</td>\n",
       "      <td>19</td>\n",
       "      <td>23</td>\n",
       "      <td>3</td>\n",
       "      <td>0</td>\n",
       "      <td>1</td>\n",
       "      <td>0</td>\n",
       "      <td>1</td>\n",
       "      <td>0</td>\n",
       "      <td>0</td>\n",
       "      <td>...</td>\n",
       "      <td>0</td>\n",
       "      <td>0</td>\n",
       "      <td>0</td>\n",
       "      <td>0</td>\n",
       "      <td>0</td>\n",
       "      <td>0</td>\n",
       "      <td>0</td>\n",
       "      <td>0</td>\n",
       "      <td>0</td>\n",
       "      <td>0</td>\n",
       "    </tr>\n",
       "    <tr>\n",
       "      <th>3</th>\n",
       "      <td>4</td>\n",
       "      <td>16</td>\n",
       "      <td>28</td>\n",
       "      <td>40</td>\n",
       "      <td>0</td>\n",
       "      <td>0</td>\n",
       "      <td>1</td>\n",
       "      <td>0</td>\n",
       "      <td>1</td>\n",
       "      <td>1</td>\n",
       "      <td>...</td>\n",
       "      <td>1</td>\n",
       "      <td>0</td>\n",
       "      <td>0</td>\n",
       "      <td>0</td>\n",
       "      <td>0</td>\n",
       "      <td>0</td>\n",
       "      <td>0</td>\n",
       "      <td>0</td>\n",
       "      <td>0</td>\n",
       "      <td>0</td>\n",
       "    </tr>\n",
       "    <tr>\n",
       "      <th>4</th>\n",
       "      <td>1</td>\n",
       "      <td>18</td>\n",
       "      <td>31</td>\n",
       "      <td>32</td>\n",
       "      <td>0</td>\n",
       "      <td>0</td>\n",
       "      <td>1</td>\n",
       "      <td>1</td>\n",
       "      <td>1</td>\n",
       "      <td>1</td>\n",
       "      <td>...</td>\n",
       "      <td>0</td>\n",
       "      <td>0</td>\n",
       "      <td>0</td>\n",
       "      <td>0</td>\n",
       "      <td>0</td>\n",
       "      <td>0</td>\n",
       "      <td>0</td>\n",
       "      <td>0</td>\n",
       "      <td>0</td>\n",
       "      <td>0</td>\n",
       "    </tr>\n",
       "  </tbody>\n",
       "</table>\n",
       "<p>5 rows × 58 columns</p>\n",
       "</div>"
      ],
      "text/plain": [
       "   dayofweek  hour  age  numscreens  minigame  used_premium_feature  enrolled  \\\n",
       "0          3     2   23          15         0                     0         0   \n",
       "1          6     1   24          13         0                     0         0   \n",
       "2          1    19   23           3         0                     1         0   \n",
       "3          4    16   28          40         0                     0         1   \n",
       "4          1    18   31          32         0                     0         1   \n",
       "\n",
       "   liked  product_review  Home  ...  Leaderboard  Saving10  EditProfile  \\\n",
       "0      0               1     0  ...            0         0            0   \n",
       "1      0               1     0  ...            0         0            0   \n",
       "2      1               0     0  ...            0         0            0   \n",
       "3      0               1     1  ...            1         0            0   \n",
       "4      1               1     1  ...            0         0            0   \n",
       "\n",
       "   ProfileMaritalStatus  ProfileChildren  Saving4  VerifyHousing  \\\n",
       "0                     0                0        0              0   \n",
       "1                     0                0        0              0   \n",
       "2                     0                0        0              0   \n",
       "3                     0                0        0              0   \n",
       "4                     0                0        0              0   \n",
       "\n",
       "   ProfileEducation  VerifyHousingAmount  ProfileEducationMajor  \n",
       "0                 0                    0                      0  \n",
       "1                 0                    0                      0  \n",
       "2                 0                    0                      0  \n",
       "3                 0                    0                      0  \n",
       "4                 0                    0                      0  \n",
       "\n",
       "[5 rows x 58 columns]"
      ]
     },
     "execution_count": 267,
     "metadata": {},
     "output_type": "execute_result"
    }
   ],
   "source": [
    "df_fs.head()"
   ]
  },
  {
   "cell_type": "code",
   "execution_count": 268,
   "metadata": {},
   "outputs": [
    {
     "data": {
      "text/plain": [
       "dayofweek                int64\n",
       "hour                     int64\n",
       "age                      int64\n",
       "numscreens               int64\n",
       "minigame                 int64\n",
       "used_premium_feature     int64\n",
       "enrolled                 int64\n",
       "liked                    int64\n",
       "product_review           int32\n",
       "Home                     int32\n",
       "ScanPreview              int32\n",
       "VerifyPhone              int32\n",
       "location                 int32\n",
       "Loan2                    int32\n",
       "VerifyDateOfBirth        int32\n",
       "VerifySSN                int32\n",
       "VerifyCountry            int32\n",
       "VerifyToken              int32\n",
       "product_review3          int32\n",
       "SelectInstitution        int32\n",
       "Cycle                    int32\n",
       "product_review2          int32\n",
       "idscreen                 int32\n",
       "Credit3Container         int32\n",
       "BankVerification         int32\n",
       "Institutions             int32\n",
       "joinscreen               int32\n",
       "Splash                   int32\n",
       "Credit1                  int32\n",
       "Credit3Dashboard         int32\n",
       "ReferralContainer        int32\n",
       "ProfilePage              int32\n",
       "Loan3                    int32\n",
       "Credit2                  int32\n",
       "Credit3                  int32\n",
       "Loan1                    int32\n",
       "CC1                      int32\n",
       "RewardsContainer         int32\n",
       "CommunityAndInvites      int32\n",
       "MLWebView                int32\n",
       "Finances                 int32\n",
       "Settings                 int32\n",
       "Alerts                   int32\n",
       "Saving9                  int32\n",
       "CC1Category              int32\n",
       "Saving8                  int32\n",
       "VerifyMobile             int32\n",
       "Saving1                  int32\n",
       "Leaderboard              int32\n",
       "Saving10                 int32\n",
       "EditProfile              int32\n",
       "ProfileMaritalStatus     int32\n",
       "ProfileChildren          int32\n",
       "Saving4                  int32\n",
       "VerifyHousing            int32\n",
       "ProfileEducation         int32\n",
       "VerifyHousingAmount      int32\n",
       "ProfileEducationMajor    int32\n",
       "dtype: object"
      ]
     },
     "execution_count": 268,
     "metadata": {},
     "output_type": "execute_result"
    }
   ],
   "source": [
    "df_fs.dtypes"
   ]
  },
  {
   "cell_type": "code",
   "execution_count": null,
   "metadata": {},
   "outputs": [],
   "source": []
  },
  {
   "cell_type": "markdown",
   "metadata": {},
   "source": [
    "## Class Imbalance"
   ]
  },
  {
   "cell_type": "code",
   "execution_count": 269,
   "metadata": {
    "colab": {
     "base_uri": "https://localhost:8080/",
     "height": 0
    },
    "colab_type": "code",
    "id": "hMpcT5VsWtGP",
    "outputId": "647aa5e5-f26f-43f8-f36a-cc029d930c82"
   },
   "outputs": [
    {
     "data": {
      "text/plain": [
       "0    41750\n",
       "1     8250\n",
       "Name: liked, dtype: int64"
      ]
     },
     "execution_count": 269,
     "metadata": {},
     "output_type": "execute_result"
    },
    {
     "data": {
      "image/png": "[encoded data removed]",
      "text/plain": [
       "<Figure size 432x288 with 1 Axes>"
      ]
     },
     "metadata": {},
     "output_type": "display_data"
    }
   ],
   "source": [
    "# Visualization to check if the dataset is balanced or not\n",
    "g = sns.countplot(x='enrolled', data=df)\n",
    "plt.xlabel('enrolled')\n",
    "plt.ylabel('Count')\n",
    "df.liked.value_counts()"
   ]
  },
  {
   "cell_type": "code",
   "execution_count": 270,
   "metadata": {},
   "outputs": [
    {
     "data": {
      "text/plain": [
       "31074"
      ]
     },
     "execution_count": 270,
     "metadata": {},
     "output_type": "execute_result"
    }
   ],
   "source": [
    "df.enrolled.value_counts()[1]"
   ]
  },
  {
   "cell_type": "code",
   "execution_count": 271,
   "metadata": {},
   "outputs": [
    {
     "name": "stdout",
     "output_type": "stream",
     "text": [
      "class 0 :37.852000000000004%\n",
      "class 1 :62.148%\n"
     ]
    }
   ],
   "source": [
    "print('class 0 :{}%\\nclass 1 :{}%'.format((df.enrolled.value_counts()[0])/50000*100,(df.enrolled.value_counts()[1])/50000*100))"
   ]
  },
  {
   "cell_type": "markdown",
   "metadata": {},
   "source": [
    "## Oversampling"
   ]
  },
  {
   "cell_type": "raw",
   "metadata": {},
   "source": [
    "from imblearn.combine import SMOTETomek\n",
    "from imblearn.under_sampling import NearMiss"
   ]
  },
  {
   "cell_type": "raw",
   "metadata": {},
   "source": [
    "# Implementing Oversampling for Handling Imbalanced \n",
    "smk = SMOTETomek(random_state=42)\n",
    "X_res,y_res=smk.fit_sample(X,Y)\n",
    "In [12]:\n",
    "X_res.shape,y_res.shape"
   ]
  },
  {
   "cell_type": "raw",
   "metadata": {},
   "source": [
    "## RandomOverSampler to handle imbalanced data\n",
    "\n",
    "from imblearn.over_sampling import RandomOverSampler"
   ]
  },
  {
   "cell_type": "raw",
   "metadata": {},
   "source": [
    "os =  RandomOverSampler(ratio=0.5)\n",
    "\n",
    "X_train_res, y_train_res = os.fit_sample(X, Y)"
   ]
  },
  {
   "cell_type": "code",
   "execution_count": null,
   "metadata": {},
   "outputs": [],
   "source": []
  },
  {
   "cell_type": "markdown",
   "metadata": {},
   "source": [
    "## Data Pre-processing"
   ]
  },
  {
   "cell_type": "code",
   "execution_count": 272,
   "metadata": {},
   "outputs": [],
   "source": [
    "#hour and dayofweek are categorical in nature\n",
    "dataset = pd.get_dummies(df_fs,columns=['dayofweek','hour'],drop_first=True)"
   ]
  },
  {
   "cell_type": "code",
   "execution_count": 273,
   "metadata": {},
   "outputs": [
    {
     "data": {
      "text/plain": [
       "(50000, 85)"
      ]
     },
     "execution_count": 273,
     "metadata": {},
     "output_type": "execute_result"
    }
   ],
   "source": [
    "dataset.shape"
   ]
  },
  {
   "cell_type": "code",
   "execution_count": 274,
   "metadata": {
    "colab": {},
    "colab_type": "code",
    "id": "gktjo1Gye6Ra"
   },
   "outputs": [],
   "source": [
    "from sklearn.preprocessing import StandardScaler\n",
    "standScaler = StandardScaler()\n",
    "columns_to_scale = ['age', 'numscreens']\n",
    "dataset[columns_to_scale] = standScaler.fit_transform(dataset[columns_to_scale])"
   ]
  },
  {
   "cell_type": "code",
   "execution_count": 355,
   "metadata": {},
   "outputs": [],
   "source": [
    "X = dataset.drop(columns = 'enrolled')\n",
    "Y = dataset['enrolled']"
   ]
  },
  {
   "cell_type": "code",
   "execution_count": 356,
   "metadata": {},
   "outputs": [],
   "source": [
    "X['user'] = df.user"
   ]
  },
  {
   "cell_type": "code",
   "execution_count": 357,
   "metadata": {},
   "outputs": [],
   "source": [
    "from sklearn.model_selection import train_test_split\n",
    "X_train, X_test, y_train, y_test = train_test_split(X, Y, test_size = 0.2, random_state = 0)"
   ]
  },
  {
   "cell_type": "code",
   "execution_count": 358,
   "metadata": {},
   "outputs": [],
   "source": [
    "# take User ID in another variable \n",
    "train_userID = X_train['user']\n",
    "X_train.drop(columns= 'user', inplace =True)\n",
    "test_userID = X_test['user']\n",
    "X_test.drop(columns= 'user', inplace =True)"
   ]
  },
  {
   "cell_type": "raw",
   "metadata": {},
   "source": [
    "from sklearn.preprocessing import StandardScaler\n",
    "sc = StandardScaler()\n",
    "X_train_sc = sc.fit_transform(X_train)\n",
    "X_test_sc = sc.transform(X_test)"
   ]
  },
  {
   "cell_type": "code",
   "execution_count": 352,
   "metadata": {
    "colab": {
     "base_uri": "https://localhost:8080/",
     "height": 123
    },
    "colab_type": "code",
    "id": "szazUF3JfGiC",
    "outputId": "d0186392-77bd-4dfd-8a40-5c6760e1a76b"
   },
   "outputs": [
    {
     "data": {
      "text/plain": [
       "Index(['age', 'numscreens', 'minigame', 'used_premium_feature', 'liked',\n",
       "       'product_review', 'Home', 'ScanPreview', 'VerifyPhone', 'location',\n",
       "       'Loan2', 'VerifyDateOfBirth', 'VerifySSN', 'VerifyCountry',\n",
       "       'VerifyToken', 'product_review3', 'SelectInstitution', 'Cycle',\n",
       "       'product_review2', 'idscreen', 'Credit3Container', 'BankVerification',\n",
       "       'Institutions', 'joinscreen', 'Splash', 'Credit1', 'Credit3Dashboard',\n",
       "       'ReferralContainer', 'ProfilePage', 'Loan3', 'Credit2', 'Credit3',\n",
       "       'Loan1', 'CC1', 'RewardsContainer', 'CommunityAndInvites', 'MLWebView',\n",
       "       'Finances', 'Settings', 'Alerts', 'Saving9', 'CC1Category', 'Saving8',\n",
       "       'VerifyMobile', 'Saving1', 'Leaderboard', 'Saving10', 'EditProfile',\n",
       "       'ProfileMaritalStatus', 'ProfileChildren', 'Saving4', 'VerifyHousing',\n",
       "       'ProfileEducation', 'VerifyHousingAmount', 'ProfileEducationMajor',\n",
       "       'dayofweek_1', 'dayofweek_2', 'dayofweek_3', 'dayofweek_4',\n",
       "       'dayofweek_5', 'dayofweek_6', 'hour_1', 'hour_2', 'hour_3', 'hour_4',\n",
       "       'hour_5', 'hour_6', 'hour_7', 'hour_8', 'hour_9', 'hour_10', 'hour_11',\n",
       "       'hour_12', 'hour_13', 'hour_14', 'hour_15', 'hour_16', 'hour_17',\n",
       "       'hour_18', 'hour_19', 'hour_20', 'hour_21', 'hour_22', 'hour_23',\n",
       "       'user'],\n",
       "      dtype='object')"
      ]
     },
     "execution_count": 352,
     "metadata": {},
     "output_type": "execute_result"
    }
   ],
   "source": [
    "X_train.columns"
   ]
  },
  {
   "cell_type": "code",
   "execution_count": 278,
   "metadata": {},
   "outputs": [
    {
     "name": "stdout",
     "output_type": "stream",
     "text": [
      "Shape of X_train =  (40000, 84)\n",
      "Shape of X_test =  (10000, 84)\n",
      "Shape of y_train =  (40000,)\n",
      "Shape of y_test =  (10000,)\n"
     ]
    }
   ],
   "source": [
    "print('Shape of X_train = ', X_train.shape)\n",
    "print('Shape of X_test = ', X_test.shape)\n",
    "print('Shape of y_train = ', y_train.shape)\n",
    "print('Shape of y_test = ', y_test.shape)"
   ]
  },
  {
   "cell_type": "markdown",
   "metadata": {},
   "source": [
    "## Model Building"
   ]
  },
  {
   "cell_type": "code",
   "execution_count": 279,
   "metadata": {},
   "outputs": [],
   "source": [
    "# import required packages\n",
    "from sklearn.metrics import confusion_matrix, classification_report, accuracy_score\n",
    "from sklearn.metrics import roc_curve, auc"
   ]
  },
  {
   "cell_type": "markdown",
   "metadata": {},
   "source": [
    "### Decision Tree"
   ]
  },
  {
   "cell_type": "code",
   "execution_count": 280,
   "metadata": {},
   "outputs": [
    {
     "data": {
      "text/plain": [
       "0.7858"
      ]
     },
     "execution_count": 280,
     "metadata": {},
     "output_type": "execute_result"
    }
   ],
   "source": [
    "# Decision Tree Classifier\n",
    "from sklearn.tree import DecisionTreeClassifier\n",
    "dt_model = DecisionTreeClassifier(criterion= 'entropy', random_state=0)\n",
    "dt_model.fit(X_train, y_train)\n",
    "y_pred_dt = dt_model.predict(X_test)\n",
    "accuracy_score(y_test, y_pred_dt)"
   ]
  },
  {
   "cell_type": "code",
   "execution_count": 281,
   "metadata": {},
   "outputs": [
    {
     "data": {
      "text/plain": [
       "0.7726319346430045"
      ]
     },
     "execution_count": 281,
     "metadata": {},
     "output_type": "execute_result"
    }
   ],
   "source": [
    "from sklearn.metrics import roc_curve, auc\n",
    "false_positive_rate, true_positive_rate, thresholds = roc_curve(y_test, y_pred_dt)\n",
    "roc_auc_dt = auc(false_positive_rate, true_positive_rate)\n",
    "roc_auc_dt"
   ]
  },
  {
   "cell_type": "raw",
   "metadata": {},
   "source": [
    "dt_model2 = DecisionTreeClassifier(class_weight=None, criterion=’gini’, max_depth=None,\n",
    "                                   max_features=None, max_leaf_nodes=None,\n",
    "                                   min_impurity_split=1e-07, min_samples_leaf=1,\n",
    "                                   min_samples_split=2, min_weight_fraction_leaf=0.0,\n",
    "                                   presort=False, random_state=None, splitter=’best’)"
   ]
  },
  {
   "cell_type": "code",
   "execution_count": null,
   "metadata": {},
   "outputs": [],
   "source": []
  },
  {
   "cell_type": "code",
   "execution_count": null,
   "metadata": {},
   "outputs": [],
   "source": []
  },
  {
   "cell_type": "code",
   "execution_count": null,
   "metadata": {},
   "outputs": [],
   "source": []
  },
  {
   "cell_type": "markdown",
   "metadata": {
    "colab_type": "text",
    "id": "eko0NbkMg_rA"
   },
   "source": [
    "### KNeighbors Classifier Model"
   ]
  },
  {
   "cell_type": "code",
   "execution_count": 282,
   "metadata": {},
   "outputs": [],
   "source": [
    "from sklearn.neighbors import KNeighborsClassifier\n",
    "from sklearn.model_selection import cross_val_score"
   ]
  },
  {
   "cell_type": "markdown",
   "metadata": {},
   "source": [
    "#### Note: Following knn code takes a lot of time to execute"
   ]
  },
  {
   "cell_type": "code",
   "execution_count": 149,
   "metadata": {},
   "outputs": [],
   "source": [
    "# Finding the best accuracy for knn algorithm using cross_val_score \n",
    "knn_scores = []\n",
    "for i in range(1, 21):\n",
    "  knn_classifier = KNeighborsClassifier(n_neighbors=i)\n",
    "  cvs_scores = cross_val_score(knn_classifier, X_train, y_train, cv=5)\n",
    "  knn_scores.append(round(cvs_scores.mean(),3))"
   ]
  },
  {
   "cell_type": "code",
   "execution_count": 150,
   "metadata": {
    "colab": {
     "base_uri": "https://localhost:8080/",
     "height": 850
    },
    "colab_type": "code",
    "id": "N5jcGJwZhqSm",
    "outputId": "e1cd2c46-ddba-4cab-b44b-4350ff5a87ec"
   },
   "outputs": [
    {
     "data": {
      "text/plain": [
       "Text(0.5, 1.0, 'K Neighbors Classifier scores for different K values')"
      ]
     },
     "execution_count": 150,
     "metadata": {},
     "output_type": "execute_result"
    },
    {
     "data": {
      "image/png": "[encoded data removed]",
      "text/plain": [
       "<Figure size 1440x1080 with 1 Axes>"
      ]
     },
     "metadata": {},
     "output_type": "display_data"
    }
   ],
   "source": [
    "#Elbow method\n",
    "# Plotting the results of knn_scores\n",
    "plt.figure(figsize=(15,6))\n",
    "plt.plot([k for k in range(1, 21)], knn_scores, color = 'red')\n",
    "for i in range(1,21):\n",
    "    plt.text(i, knn_scores[i-1], (i, knn_scores[i-1]))\n",
    "plt.xticks([i for i in range(1, 21)])\n",
    "plt.xlabel('Number of Neighbors (K)')\n",
    "plt.ylabel('Scores')\n",
    "plt.title('K Neighbors Classifier scores for different K values')"
   ]
  },
  {
   "cell_type": "code",
   "execution_count": 151,
   "metadata": {},
   "outputs": [],
   "source": [
    "# Finding the best accuracy for knn algorithm using cross_val_score \n",
    "knn_scores = []\n",
    "for i in range(20, 40, 2):\n",
    "  knn_classifier = KNeighborsClassifier(n_neighbors=i)\n",
    "  cvs_scores = cross_val_score(knn_classifier, X_train, y_train, cv=5)\n",
    "  knn_scores.append(round(cvs_scores.mean(),3))"
   ]
  },
  {
   "cell_type": "code",
   "execution_count": 155,
   "metadata": {
    "colab": {
     "base_uri": "https://localhost:8080/",
     "height": 850
    },
    "colab_type": "code",
    "collapsed": true,
    "id": "N5jcGJwZhqSm",
    "jupyter": {
     "outputs_hidden": true
    },
    "outputId": "e1cd2c46-ddba-4cab-b44b-4350ff5a87ec"
   },
   "outputs": [
    {
     "data": {
      "text/plain": [
       "Text(0.5, 1.0, 'K Neighbors Classifier scores for different K values')"
      ]
     },
     "execution_count": 155,
     "metadata": {},
     "output_type": "execute_result"
    },
    {
     "data": {
      "image/png": "[encoded data removed]",
      "text/plain": [
       "<Figure size 1440x1080 with 1 Axes>"
      ]
     },
     "metadata": {},
     "output_type": "display_data"
    }
   ],
   "source": [
    "#Elbow method\n",
    "# Plotting the results of knn_scores\n",
    "plt.figure(figsize=(20,15))\n",
    "plt.plot([k for k in range(20, 40, 2)], knn_scores, color = 'red')\n",
    "for i in range(1,11):\n",
    "    plt.text((i+9)*2, knn_scores[i-1], ((i+9)*2, knn_scores[i-1]))\n",
    "plt.xticks([i for i in range(20, 40,2)])\n",
    "plt.xlabel('Number of Neighbors (K)')\n",
    "plt.ylabel('Scores')\n",
    "plt.title('K Neighbors Classifier scores for different K values')"
   ]
  },
  {
   "cell_type": "code",
   "execution_count": 157,
   "metadata": {},
   "outputs": [
    {
     "name": "stdout",
     "output_type": "stream",
     "text": [
      "KNeighbours Classifier Accuracy with K=12 is: 80.49%\n"
     ]
    }
   ],
   "source": [
    "# Training the knn classifier model with k value as 20\n",
    "knn_classifier = KNeighborsClassifier(n_neighbors=20)\n",
    "cvs_scores = cross_val_score(knn_classifier, X_train, y_train, cv=5)\n",
    "print(\"KNeighbours Classifier Accuracy with K=20 is: {}%\".format(round(cvs_scores.mean(), 4)*100))"
   ]
  },
  {
   "cell_type": "code",
   "execution_count": 283,
   "metadata": {},
   "outputs": [
    {
     "data": {
      "text/plain": [
       "0.7998"
      ]
     },
     "execution_count": 283,
     "metadata": {},
     "output_type": "execute_result"
    }
   ],
   "source": [
    "knn_classifier.fit(X_train,y_train)\n",
    "y_pred_knn = knn_classifier.predict(X_test)\n",
    "accuracy_score(y_test, y_pred_knn)"
   ]
  },
  {
   "cell_type": "code",
   "execution_count": 166,
   "metadata": {},
   "outputs": [
    {
     "name": "stdout",
     "output_type": "stream",
     "text": [
      "              precision    recall  f1-score   support\n",
      "\n",
      "           0       0.72      0.76      0.74      3779\n",
      "           1       0.85      0.83      0.84      6221\n",
      "\n",
      "    accuracy                           0.80     10000\n",
      "   macro avg       0.79      0.79      0.79     10000\n",
      "weighted avg       0.80      0.80      0.80     10000\n",
      "\n"
     ]
    }
   ],
   "source": [
    "print(classification_report(y_test,y_pred_knn))"
   ]
  },
  {
   "cell_type": "code",
   "execution_count": 163,
   "metadata": {},
   "outputs": [
    {
     "data": {
      "text/plain": [
       "0.7915708511733661"
      ]
     },
     "execution_count": 163,
     "metadata": {},
     "output_type": "execute_result"
    }
   ],
   "source": [
    "false_positive_rate, true_positive_rate, thresholds = roc_curve(y_test, y_pred_knn)\n",
    "roc_auc_dt = auc(false_positive_rate, true_positive_rate)\n",
    "roc_auc_dt"
   ]
  },
  {
   "cell_type": "markdown",
   "metadata": {},
   "source": [
    "### Logistic Regression"
   ]
  },
  {
   "cell_type": "code",
   "execution_count": 204,
   "metadata": {},
   "outputs": [
    {
     "data": {
      "text/plain": [
       "0.8211"
      ]
     },
     "execution_count": 204,
     "metadata": {},
     "output_type": "execute_result"
    }
   ],
   "source": [
    "# Logistic Regression\n",
    "from sklearn.linear_model import LogisticRegression\n",
    "lr_model = LogisticRegression(random_state = 0, penalty = 'l2')\n",
    "lr_model.fit(X_train, y_train)\n",
    "y_pred_lr = lr_model.predict(X_test)\n",
    " \n",
    "accuracy_score(y_test, y_pred_lr)"
   ]
  },
  {
   "cell_type": "code",
   "execution_count": 205,
   "metadata": {},
   "outputs": [
    {
     "name": "stdout",
     "output_type": "stream",
     "text": [
      "              precision    recall  f1-score   support\n",
      "\n",
      "           0       0.73      0.83      0.78      3779\n",
      "           1       0.89      0.82      0.85      6221\n",
      "\n",
      "    accuracy                           0.82     10000\n",
      "   macro avg       0.81      0.82      0.81     10000\n",
      "weighted avg       0.83      0.82      0.82     10000\n",
      "\n"
     ]
    }
   ],
   "source": [
    "print(classification_report(y_test,y_pred_lr))"
   ]
  },
  {
   "cell_type": "markdown",
   "metadata": {},
   "source": [
    "### Random Forest"
   ]
  },
  {
   "cell_type": "code",
   "execution_count": 167,
   "metadata": {},
   "outputs": [],
   "source": [
    "from sklearn.ensemble import RandomForestClassifier"
   ]
  },
  {
   "cell_type": "code",
   "execution_count": 284,
   "metadata": {},
   "outputs": [
    {
     "name": "stdout",
     "output_type": "stream",
     "text": [
      "{'bootstrap': True,\n",
      " 'ccp_alpha': 0.0,\n",
      " 'class_weight': None,\n",
      " 'criterion': 'gini',\n",
      " 'max_depth': None,\n",
      " 'max_features': 'auto',\n",
      " 'max_leaf_nodes': None,\n",
      " 'max_samples': None,\n",
      " 'min_impurity_decrease': 0.0,\n",
      " 'min_impurity_split': None,\n",
      " 'min_samples_leaf': 1,\n",
      " 'min_samples_split': 2,\n",
      " 'min_weight_fraction_leaf': 0.0,\n",
      " 'n_estimators': 100,\n",
      " 'n_jobs': None,\n",
      " 'oob_score': False,\n",
      " 'random_state': 42,\n",
      " 'verbose': 0,\n",
      " 'warm_start': False}\n"
     ]
    }
   ],
   "source": [
    "rf = RandomForestClassifier(random_state = 42)\n",
    "from pprint import pprint\n",
    "pprint(rf.get_params())"
   ]
  },
  {
   "cell_type": "code",
   "execution_count": 173,
   "metadata": {},
   "outputs": [
    {
     "name": "stdout",
     "output_type": "stream",
     "text": [
      "{'bootstrap': [True, False],\n",
      " 'max_depth': [10, 20, 30, 40, 50, 60, 70, 80, 90, 100, 110, None],\n",
      " 'max_features': ['auto', 'sqrt'],\n",
      " 'min_samples_leaf': [1, 2, 4],\n",
      " 'min_samples_split': [2, 5, 10],\n",
      " 'n_estimators': [100, 200, 300, 400, 500, 600, 700, 800, 900, 1000]}\n"
     ]
    }
   ],
   "source": [
    "from sklearn.model_selection import RandomizedSearchCV\n",
    "# Number of trees in random forest\n",
    "n_estimators = [int(x) for x in np.linspace(start = 100, stop = 1000, num = 10)]\n",
    "# Number of features to consider at every split\n",
    "max_features = ['auto', 'sqrt']\n",
    "# Maximum number of levels in tree\n",
    "max_depth = [int(x) for x in np.linspace(10, 110, num = 11)]\n",
    "max_depth.append(None)\n",
    "# Minimum number of samples required to split a node\n",
    "min_samples_split = [2, 5, 10]\n",
    "# Minimum number of samples required at each leaf node\n",
    "min_samples_leaf = [1, 2, 4]\n",
    "# Method of selecting samples for training each tree\n",
    "bootstrap = [True, False]\n",
    "# Create the random grid\n",
    "random_grid = {'n_estimators': n_estimators,\n",
    "               'max_features': max_features,\n",
    "               'max_depth': max_depth,\n",
    "               'min_samples_split': min_samples_split,\n",
    "               'min_samples_leaf': min_samples_leaf,\n",
    "               'bootstrap': bootstrap}\n",
    "pprint(random_grid)"
   ]
  },
  {
   "cell_type": "code",
   "execution_count": 178,
   "metadata": {},
   "outputs": [],
   "source": [
    "rf_random = RandomizedSearchCV(estimator = rf, param_distributions = random_grid, n_iter = 5, cv = 3, verbose=3, \n",
    "                               random_state=42, n_jobs = -1,scoring='roc_auc')"
   ]
  },
  {
   "cell_type": "code",
   "execution_count": 180,
   "metadata": {},
   "outputs": [
    {
     "name": "stdout",
     "output_type": "stream",
     "text": [
      "Fitting 3 folds for each of 5 candidates, totalling 15 fits\n"
     ]
    },
    {
     "name": "stderr",
     "output_type": "stream",
     "text": [
      "[Parallel(n_jobs=-1)]: Using backend LokyBackend with 4 concurrent workers.\n",
      "[Parallel(n_jobs=-1)]: Done  15 out of  15 | elapsed:  3.1min finished\n"
     ]
    },
    {
     "data": {
      "text/plain": [
       "RandomizedSearchCV(cv=3, estimator=RandomForestClassifier(random_state=42),\n",
       "                   n_iter=5, n_jobs=-1,\n",
       "                   param_distributions={'bootstrap': [True, False],\n",
       "                                        'max_depth': [10, 20, 30, 40, 50, 60,\n",
       "                                                      70, 80, 90, 100, 110,\n",
       "                                                      None],\n",
       "                                        'max_features': ['auto', 'sqrt'],\n",
       "                                        'min_samples_leaf': [1, 2, 4],\n",
       "                                        'min_samples_split': [2, 5, 10],\n",
       "                                        'n_estimators': [100, 200, 300, 400,\n",
       "                                                         500, 600, 700, 800,\n",
       "                                                         900, 1000]},\n",
       "                   random_state=42, scoring='roc_auc', verbose=3)"
      ]
     },
     "execution_count": 180,
     "metadata": {},
     "output_type": "execute_result"
    }
   ],
   "source": [
    "# Fit the random search model\n",
    "rf_random.fit(X_train, y_train)"
   ]
  },
  {
   "cell_type": "code",
   "execution_count": 184,
   "metadata": {},
   "outputs": [
    {
     "data": {
      "text/plain": [
       "RandomForestClassifier(bootstrap=False, max_depth=90, max_features='sqrt',\n",
       "                       min_samples_leaf=4, min_samples_split=10,\n",
       "                       n_estimators=300, random_state=42)"
      ]
     },
     "execution_count": 184,
     "metadata": {},
     "output_type": "execute_result"
    }
   ],
   "source": [
    "rf_random.best_estimator_"
   ]
  },
  {
   "cell_type": "code",
   "execution_count": 182,
   "metadata": {},
   "outputs": [
    {
     "data": {
      "text/plain": [
       "0.9188542094852536"
      ]
     },
     "execution_count": 182,
     "metadata": {},
     "output_type": "execute_result"
    }
   ],
   "source": [
    "rf_random.best_score_"
   ]
  },
  {
   "cell_type": "code",
   "execution_count": 185,
   "metadata": {},
   "outputs": [],
   "source": [
    "rf_tuned = RandomForestClassifier(bootstrap=False, max_depth=90, max_features='sqrt',\n",
    "                       min_samples_leaf=4, min_samples_split=10,\n",
    "                       n_estimators=300, random_state=42)"
   ]
  },
  {
   "cell_type": "code",
   "execution_count": 186,
   "metadata": {},
   "outputs": [
    {
     "data": {
      "text/plain": [
       "RandomForestClassifier(bootstrap=False, max_depth=90, max_features='sqrt',\n",
       "                       min_samples_leaf=4, min_samples_split=10,\n",
       "                       n_estimators=300, random_state=42)"
      ]
     },
     "execution_count": 186,
     "metadata": {},
     "output_type": "execute_result"
    }
   ],
   "source": [
    "rf_tuned.fit(X_train,y_train)"
   ]
  },
  {
   "cell_type": "code",
   "execution_count": 189,
   "metadata": {},
   "outputs": [],
   "source": [
    "def score(model):\n",
    "    cvs_scores = cross_val_score(model, X_train, y_train, cv=5)\n",
    "    print(\"{} Accuracy with n_estimators=300 is: {}%\".format(model,round(cvs_scores.mean(), 4)*100))"
   ]
  },
  {
   "cell_type": "code",
   "execution_count": 190,
   "metadata": {},
   "outputs": [
    {
     "name": "stdout",
     "output_type": "stream",
     "text": [
      "RandomForestClassifier(bootstrap=False, max_depth=90, max_features='sqrt',\n",
      "                       min_samples_leaf=4, min_samples_split=10,\n",
      "                       n_estimators=300, random_state=42) Accuracy with n_estimators=90 is: 84.45%\n"
     ]
    }
   ],
   "source": [
    "score(rf_tuned)"
   ]
  },
  {
   "cell_type": "code",
   "execution_count": 192,
   "metadata": {},
   "outputs": [],
   "source": [
    "y_pred_rf = rf_tuned.predict(X_test)"
   ]
  },
  {
   "cell_type": "code",
   "execution_count": 193,
   "metadata": {},
   "outputs": [
    {
     "data": {
      "text/plain": [
       "0.8433"
      ]
     },
     "execution_count": 193,
     "metadata": {},
     "output_type": "execute_result"
    }
   ],
   "source": [
    "accuracy_score(y_test,y_pred_rf)#accuracy for test data"
   ]
  },
  {
   "cell_type": "code",
   "execution_count": 199,
   "metadata": {},
   "outputs": [
    {
     "name": "stdout",
     "output_type": "stream",
     "text": [
      "\t\tclassification report for test data\n",
      "\n",
      "              precision    recall  f1-score   support\n",
      "\n",
      "           0       0.77      0.83      0.80      3779\n",
      "           1       0.89      0.85      0.87      6221\n",
      "\n",
      "    accuracy                           0.84     10000\n",
      "   macro avg       0.83      0.84      0.84     10000\n",
      "weighted avg       0.85      0.84      0.84     10000\n",
      "\n"
     ]
    }
   ],
   "source": [
    "print('\\t\\tclassification report for test data\\n')\n",
    "print(classification_report(y_test,y_pred_rf))#for test data"
   ]
  },
  {
   "cell_type": "markdown",
   "metadata": {},
   "source": [
    "### XG Boost Classifier"
   ]
  },
  {
   "cell_type": "code",
   "execution_count": 206,
   "metadata": {},
   "outputs": [
    {
     "data": {
      "text/plain": [
       "0.8389"
      ]
     },
     "execution_count": 206,
     "metadata": {},
     "output_type": "execute_result"
    }
   ],
   "source": [
    "from xgboost import XGBClassifier\n",
    "xgb_model = XGBClassifier()\n",
    "xgb_model.fit(X_train, y_train)\n",
    "y_pred_xgb = xgb_model.predict(X_test)\n",
    "accuracy_score(y_test, y_pred_xgb)"
   ]
  },
  {
   "cell_type": "code",
   "execution_count": 208,
   "metadata": {},
   "outputs": [],
   "source": [
    "classifier = XGBClassifier()"
   ]
  },
  {
   "cell_type": "code",
   "execution_count": 211,
   "metadata": {},
   "outputs": [],
   "source": [
    "params = {\n",
    "    'n_estimators'     : [100,200,300,400,500],\n",
    "    'learning_rate'    : [0.05,0.10,0.15,0.20,0.25,0.30],\n",
    "    'max_depth'        : [1,2,3,4,5,6,8,10],\n",
    "    'min_child_weight' : [1,3,5,7,10],\n",
    "    'colsample_bytree' : [0.3,0.4,0.6,0.8],\n",
    "    'gamma'            : [0,0.1,0.2,0.3,0.4]\n",
    "}"
   ]
  },
  {
   "cell_type": "code",
   "execution_count": 226,
   "metadata": {},
   "outputs": [],
   "source": [
    "random_search_xg = RandomizedSearchCV(classifier,param_distributions=params,n_iter=40,n_jobs=-1,cv=3,verbose=3,scoring='roc_auc')"
   ]
  },
  {
   "cell_type": "code",
   "execution_count": null,
   "metadata": {},
   "outputs": [
    {
     "name": "stdout",
     "output_type": "stream",
     "text": [
      "Fitting 3 folds for each of 100 candidates, totalling 300 fits\n"
     ]
    },
    {
     "name": "stderr",
     "output_type": "stream",
     "text": [
      "[Parallel(n_jobs=-1)]: Using backend LokyBackend with 4 concurrent workers.\n",
      "[Parallel(n_jobs=-1)]: Done  24 tasks      | elapsed:  3.6min\n",
      "[Parallel(n_jobs=-1)]: Done 120 tasks      | elapsed: 19.8min\n"
     ]
    }
   ],
   "source": [
    "random_search_xg.fit(X_train,y_train)"
   ]
  },
  {
   "cell_type": "code",
   "execution_count": 222,
   "metadata": {},
   "outputs": [
    {
     "data": {
      "text/plain": [
       "XGBClassifier(base_score=0.5, booster='gbtree', colsample_bylevel=1,\n",
       "              colsample_bynode=1, colsample_bytree=0.3, gamma=0.2, gpu_id=-1,\n",
       "              importance_type='gain', interaction_constraints='',\n",
       "              learning_rate=0.2, max_delta_step=0, max_depth=8,\n",
       "              min_child_weight=10, missing=nan, monotone_constraints='()',\n",
       "              n_estimators=300, n_jobs=0, num_parallel_tree=1, random_state=0,\n",
       "              reg_alpha=0, reg_lambda=1, scale_pos_weight=1, subsample=1,\n",
       "              tree_method='exact', validate_parameters=1, verbosity=None)"
      ]
     },
     "execution_count": 222,
     "metadata": {},
     "output_type": "execute_result"
    }
   ],
   "source": [
    "random_search_xg.best_estimator_"
   ]
  },
  {
   "cell_type": "code",
   "execution_count": 220,
   "metadata": {},
   "outputs": [],
   "source": [
    "y_pred_xg = random_search_xg.predict(X_test)"
   ]
  },
  {
   "cell_type": "code",
   "execution_count": 307,
   "metadata": {},
   "outputs": [
    {
     "data": {
      "text/plain": [
       "83.88"
      ]
     },
     "execution_count": 307,
     "metadata": {},
     "output_type": "execute_result"
    }
   ],
   "source": [
    "accuracy_score(y_test,y_pred_xg)"
   ]
  },
  {
   "cell_type": "code",
   "execution_count": 223,
   "metadata": {},
   "outputs": [
    {
     "name": "stdout",
     "output_type": "stream",
     "text": [
      "              precision    recall  f1-score   support\n",
      "\n",
      "           0       0.77      0.82      0.79      3779\n",
      "           1       0.89      0.85      0.87      6221\n",
      "\n",
      "    accuracy                           0.84     10000\n",
      "   macro avg       0.83      0.83      0.83     10000\n",
      "weighted avg       0.84      0.84      0.84     10000\n",
      "\n"
     ]
    }
   ],
   "source": [
    "print(classification_report(y_test,y_pred_xg))"
   ]
  },
  {
   "cell_type": "code",
   "execution_count": 224,
   "metadata": {},
   "outputs": [
    {
     "data": {
      "text/plain": [
       "array([[3091,  688],\n",
       "       [ 924, 5297]], dtype=int64)"
      ]
     },
     "execution_count": 224,
     "metadata": {},
     "output_type": "execute_result"
    }
   ],
   "source": [
    "confusion_matrix(y_test,y_pred_xg)"
   ]
  },
  {
   "cell_type": "code",
   "execution_count": null,
   "metadata": {},
   "outputs": [],
   "source": []
  },
  {
   "cell_type": "markdown",
   "metadata": {},
   "source": [
    "### Best Model"
   ]
  },
  {
   "cell_type": "code",
   "execution_count": 310,
   "metadata": {},
   "outputs": [],
   "source": [
    "'''model_name = [dtmodel, knn_classifier, rf_tuned, lr_model,]\n",
    "train_score = []\n",
    "test_score = []'''\n",
    "\n",
    "def score(model):\n",
    "    train_score = []\n",
    "    test_score = []\n",
    "    cvs_scores = cross_val_score(model, X_train, y_train, cv=5)\n",
    "    train_score.append(cvs_scores.mean())\n",
    "    y_pred_model = model.predict(X_test)\n",
    "    accuracy_score(y_test,y_pred_model)\n",
    "    test_score.append(accuracy_score)\n",
    "    print(\"{} \\nTrain score: {}%\".format(str(model),round(cvs_scores.mean(), 2)*100))\n",
    "\n",
    "    print('test score:{}%'.format(round(accuracy_score(y_test,y_pred_model),2)*100))\n",
    "    \n",
    "    print('__________________________')\n",
    "    \n",
    "    return train_score, test_score"
   ]
  },
  {
   "cell_type": "code",
   "execution_count": 311,
   "metadata": {},
   "outputs": [],
   "source": [
    "model_name = [dt_model, rf_tuned, lr_model,]"
   ]
  },
  {
   "cell_type": "code",
   "execution_count": 312,
   "metadata": {},
   "outputs": [
    {
     "name": "stdout",
     "output_type": "stream",
     "text": [
      "DecisionTreeClassifier(criterion='entropy', random_state=0) \n",
      "Train score: 78.47%\n",
      "test score:79.0%\n",
      "__________________________\n",
      "RandomForestClassifier(bootstrap=False, max_depth=90, max_features='sqrt',\n",
      "                       min_samples_leaf=4, min_samples_split=10,\n",
      "                       n_estimators=300, random_state=42) \n",
      "Train score: 84.45%\n",
      "test score:84.0%\n",
      "__________________________\n"
     ]
    },
    {
     "name": "stderr",
     "output_type": "stream",
     "text": [
      "C:\\Users\\emoin\\Anaconda3\\lib\\site-packages\\sklearn\\linear_model\\_logistic.py:764: ConvergenceWarning: lbfgs failed to converge (status=1):\n",
      "STOP: TOTAL NO. of ITERATIONS REACHED LIMIT.\n",
      "\n",
      "Increase the number of iterations (max_iter) or scale the data as shown in:\n",
      "    https://scikit-learn.org/stable/modules/preprocessing.html\n",
      "Please also refer to the documentation for alternative solver options:\n",
      "    https://scikit-learn.org/stable/modules/linear_model.html#logistic-regression\n",
      "  extra_warning_msg=_LOGISTIC_SOLVER_CONVERGENCE_MSG)\n"
     ]
    },
    {
     "name": "stdout",
     "output_type": "stream",
     "text": [
      "LogisticRegression(random_state=0) \n",
      "Train score: 82.50999999999999%\n",
      "test score:82.0%\n",
      "__________________________\n"
     ]
    }
   ],
   "source": [
    "for i in model_name:\n",
    "    score(i)"
   ]
  },
  {
   "cell_type": "code",
   "execution_count": 328,
   "metadata": {},
   "outputs": [
    {
     "name": "stdout",
     "output_type": "stream",
     "text": [
      "\u001b[91m\u001b[1mHello World !\n"
     ]
    }
   ],
   "source": [
    "class color:\n",
    "   PURPLE = '\\033[95m'\n",
    "   CYAN = '\\033[96m'\n",
    "   DARKCYAN = '\\033[36m'\n",
    "   BLUE = '\\033[94m'\n",
    "   GREEN = '\\033[92m'\n",
    "   YELLOW = '\\033[93m'\n",
    "   RED = '\\033[91m'\n",
    "   BOLD = '\\033[1m'\n",
    "   UNDERLINE = '\\033[4m'\n",
    "   END = '\\033[0m'\n",
    "\n",
    "print(color.RED+color.BOLD + 'Hello World !')"
   ]
  },
  {
   "cell_type": "markdown",
   "metadata": {},
   "source": [
    "### Best Models are Random Forest and XG Boost with 85% accuracy"
   ]
  },
  {
   "cell_type": "code",
   "execution_count": 347,
   "metadata": {},
   "outputs": [
    {
     "name": "stdout",
     "output_type": "stream",
     "text": [
      "\u001b[1m\u001b[94m\t\t\tRandom Forest\n",
      "\u001b[0m\n",
      "\u001b[1m\u001b[95mAccuracy is 84.33% \u001b[0m \n",
      "\n",
      "\t\tclassification report for test data\n",
      "\n",
      "              precision    recall  f1-score   support\n",
      "\n",
      "           0       0.77      0.82      0.79      3779\n",
      "           1       0.89      0.85      0.87      6221\n",
      "\n",
      "    accuracy                           0.84     10000\n",
      "   macro avg       0.83      0.83      0.83     10000\n",
      "weighted avg       0.84      0.84      0.84     10000\n",
      "\n"
     ]
    }
   ],
   "source": [
    "print(color.BOLD+color.BLUE+'\\t\\t\\tRandom Forest\\n'+color.END)\n",
    "print(color.BOLD+color.PURPLE+'Accuracy is {}%'.format(accuracy_score(y_test,y_pred_rf)*100),color.END,'\\n')\n",
    "print('\\t\\tclassification report for test data\\n')\n",
    "print(classification_report(y_test,y_pred_xg))#for test data"
   ]
  },
  {
   "cell_type": "code",
   "execution_count": 346,
   "metadata": {},
   "outputs": [
    {
     "name": "stdout",
     "output_type": "stream",
     "text": [
      "\u001b[1m\u001b[94m\t\t\tXG Boost\n",
      "\u001b[0m\n",
      "\u001b[1m\u001b[95mAccuracy is 83.88% \u001b[0m \n",
      "\n",
      "\t\tclassification report for test data\n",
      "\n",
      "              precision    recall  f1-score   support\n",
      "\n",
      "           0       0.77      0.82      0.79      3779\n",
      "           1       0.89      0.85      0.87      6221\n",
      "\n",
      "    accuracy                           0.84     10000\n",
      "   macro avg       0.83      0.83      0.83     10000\n",
      "weighted avg       0.84      0.84      0.84     10000\n",
      "\n"
     ]
    }
   ],
   "source": [
    "print(color.BOLD+color.BLUE+'\\t\\t\\tXG Boost\\n'+color.END)\n",
    "print(color.BOLD+color.PURPLE+'Accuracy is {}%'.format(accuracy_score(y_test,y_pred_xg)*100),color.END,'\\n')\n",
    "print('\\t\\tclassification report for test data\\n')\n",
    "print(classification_report(y_test,y_pred_xg))#for test data"
   ]
  },
  {
   "cell_type": "markdown",
   "metadata": {},
   "source": [
    "### Mapping predicted output to the target"
   ]
  },
  {
   "cell_type": "code",
   "execution_count": 369,
   "metadata": {},
   "outputs": [
    {
     "name": "stdout",
     "output_type": "stream",
     "text": [
      "        user  enrolled  predicted result\n",
      "0     239786         1                 1\n",
      "1     279644         1                 1\n",
      "2      98290         0                 0\n",
      "3     170150         1                 1\n",
      "4     237568         1                 0\n",
      "...      ...       ...               ...\n",
      "9995  143036         1                 1\n",
      "9996   91158         1                 1\n",
      "9997  248318         0                 0\n",
      "9998  142418         1                 1\n",
      "9999  279355         1                 1\n",
      "\n",
      "[10000 rows x 3 columns]\n"
     ]
    }
   ],
   "source": [
    "final_result = pd.concat([test_userID, y_test], axis = 1)\n",
    "final_result['predicted result'] = y_pred_rf\n",
    "final_result.reset_index(inplace=True,drop=True) \n",
    "print(final_result)"
   ]
  },
  {
   "cell_type": "markdown",
   "metadata": {},
   "source": [
    "## Saving Machine Learning model"
   ]
  },
  {
   "cell_type": "code",
   "execution_count": 376,
   "metadata": {},
   "outputs": [
    {
     "name": "stdout",
     "output_type": "stream",
     "text": [
      "Accuracy for train data 0.909925\n",
      "Accuracy for test data 0.8433\n"
     ]
    }
   ],
   "source": [
    "#from sklearn.externals import joblib \n",
    "import joblib\n",
    "# Save the model as a pickle in a file \n",
    "joblib.dump(rf_tuned, 'rf_model.pkl') \n",
    "\n",
    "# Load the model from the file \n",
    "rf_from_joblib = joblib.load('rf_model.pkl') \n",
    "\n",
    "# Use the loaded model to make predictions \n",
    "print('Accuracy for train data',rf_from_joblib.score(X_train,y_train))#train data\n",
    "print('Accuracy for test data',rf_from_joblib.score(X_test,y_test))#test data\n",
    "\n"
   ]
  }
 ],
 "metadata": {
  "colab": {
   "collapsed_sections": [
    "9BEBuDSiTwfU",
    "cVlUJwidVjLr"
   ],
   "name": "Heart Disease Prediction.ipynb",
   "provenance": [],
   "toc_visible": true
  },
  "kernelspec": {
   "display_name": "Python 3",
   "language": "python",
   "name": "python3"
  },
  "language_info": {
   "codemirror_mode": {
    "name": "ipython",
    "version": 3
   },
   "file_extension": ".py",
   "mimetype": "text/x-python",
   "name": "python",
   "nbconvert_exporter": "python",
   "pygments_lexer": "ipython3",
   "version": "3.7.3"
  }
 },
 "nbformat": 4,
 "nbformat_minor": 4
}
